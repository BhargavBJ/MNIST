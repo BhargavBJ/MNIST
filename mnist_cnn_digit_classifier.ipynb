{
 "cells": [
  {
   "cell_type": "markdown",
   "metadata": {
    "id": "CZ3bL6PxAR5Q"
   },
   "source": [
    "# PyTorch Computer vision"
   ]
  },
  {
   "cell_type": "markdown",
   "metadata": {
    "id": "beLtfhvXFqDH"
   },
   "source": [
    "## 1.Computer vision libraries\n",
    "\n",
    "* torchvision - base domain library\n",
    "* torchvision.datasets\n",
    "* torchvision.models - get pretrained models\n",
    "* torchvision.transformers\n",
    "* torch.utils.data.Dataset\n",
    "* torch.utils.data.DataLoader\n",
    "\n"
   ]
  },
  {
   "cell_type": "code",
   "execution_count": null,
   "metadata": {
    "colab": {
     "base_uri": "https://localhost:8080/"
    },
    "id": "IwK49ZfFYDVX",
    "outputId": "9a1c22cb-55c6-4169-f87c-bcb886a5dd39"
   },
   "outputs": [],
   "source": [
    "import torch\n",
    "from torch import nn\n",
    "#Torch Vison\n",
    "import torchvision\n",
    "from torchvision import datasets\n",
    "from torchvision import transforms\n",
    "from torchvision.transforms import ToTensor\n",
    "\n",
    "import matplotlib.pyplot as plt\n",
    "print(torch.__version__)\n",
    "print(torchvision.__version__)"
   ]
  },
  {
   "cell_type": "markdown",
   "metadata": {
    "id": "8yeb9bC_ZU7P"
   },
   "source": [
    "##1.Getting a Dataset\n",
    ">  MNIST\n"
   ]
  },
  {
   "cell_type": "code",
   "execution_count": null,
   "metadata": {
    "id": "m2PDsJj0Ytf9"
   },
   "outputs": [],
   "source": [
    "#Setup training data\n",
    "train_data = datasets.MNIST(\n",
    "    root = 'data',\n",
    "    train =True,\n",
    "    download=True,\n",
    "    transform=ToTensor(),\n",
    "    target_transform=None\n",
    ")\n",
    "test_data =  datasets.MNIST(\n",
    "    root = 'data',\n",
    "    train=False,\n",
    "    download=True,\n",
    "    transform=ToTensor(),\n",
    "    target_transform=None\n",
    ")"
   ]
  },
  {
   "cell_type": "code",
   "execution_count": null,
   "metadata": {
    "colab": {
     "base_uri": "https://localhost:8080/"
    },
    "id": "ouvM5rRvbAFc",
    "outputId": "cf1833f6-d5f6-4dcc-c7c1-10037555e9fd"
   },
   "outputs": [],
   "source": [
    "len(train_data), len(test_data)"
   ]
  },
  {
   "cell_type": "code",
   "execution_count": null,
   "metadata": {
    "colab": {
     "base_uri": "https://localhost:8080/"
    },
    "id": "WWfGNGyybN86",
    "outputId": "fcdd9c8a-fdab-4003-9b10-a715e71df952"
   },
   "outputs": [],
   "source": [
    "image, label = train_data[0]\n",
    "image, label"
   ]
  },
  {
   "cell_type": "code",
   "execution_count": null,
   "metadata": {
    "colab": {
     "base_uri": "https://localhost:8080/"
    },
    "id": "fq5QWz7LbbS-",
    "outputId": "7e38a06a-04b5-4814-b8c6-e2907d618674"
   },
   "outputs": [],
   "source": [
    "class_names = train_data.classes\n",
    "class_names"
   ]
  },
  {
   "cell_type": "code",
   "execution_count": null,
   "metadata": {
    "colab": {
     "base_uri": "https://localhost:8080/"
    },
    "id": "uT4ac1nKbnKD",
    "outputId": "d003ab8f-9e6a-46d7-9251-7abd507f4734"
   },
   "outputs": [],
   "source": [
    "class_to_idx = train_data.class_to_idx\n",
    "class_to_idx"
   ]
  },
  {
   "cell_type": "code",
   "execution_count": null,
   "metadata": {
    "colab": {
     "base_uri": "https://localhost:8080/"
    },
    "id": "QailtZ2mbsIf",
    "outputId": "3bf31e5a-7030-4c01-f627-f268b482c90a"
   },
   "outputs": [],
   "source": [
    "train_data.targets"
   ]
  },
  {
   "cell_type": "code",
   "execution_count": null,
   "metadata": {
    "colab": {
     "base_uri": "https://localhost:8080/"
    },
    "id": "ULP2jifKbuuu",
    "outputId": "0c7da014-9391-4045-9ada-930f300fd9ab"
   },
   "outputs": [],
   "source": [
    "print(f'Image shape={image.shape}, Labels ={label}')"
   ]
  },
  {
   "cell_type": "code",
   "execution_count": null,
   "metadata": {
    "colab": {
     "base_uri": "https://localhost:8080/",
     "height": 445
    },
    "id": "kKBfhdenbyJN",
    "outputId": "02b7cff0-d06f-4175-d70b-568cd5630c5d"
   },
   "outputs": [],
   "source": [
    "#Visualize\n",
    "import matplotlib.pyplot as plt\n",
    "image ,label = train_data[0]\n",
    "plt.title(class_names[label])\n",
    "plt.imshow(image.squeeze(), cmap='hot')\n",
    "plt.axis(False)"
   ]
  },
  {
   "cell_type": "code",
   "execution_count": null,
   "metadata": {
    "colab": {
     "base_uri": "https://localhost:8080/",
     "height": 704
    },
    "id": "hbvlVEo7cZnK",
    "outputId": "617b5a08-2303-42e2-b365-579e66fbd2c5"
   },
   "outputs": [],
   "source": [
    "#Plot more images\n",
    "torch.manual_seed(42)\n",
    "fig = plt.figure(figsize=(9,9))\n",
    "rows, cols =4, 4\n",
    "for i in range(1, rows*cols+1):\n",
    "  rand = torch.randint(0,len(train_data), size=[1]).item()\n",
    "  img, label = train_data[rand]\n",
    "  fig.add_subplot(rows,cols, i)\n",
    "  plt.imshow(img.squeeze(), cmap='hot')\n",
    "  plt.title(class_names[label])\n",
    "  plt.axis(False)"
   ]
  },
  {
   "cell_type": "markdown",
   "metadata": {
    "id": "0vqLNtKr35zy"
   },
   "source": [
    "# 2.Prepare Data Loader"
   ]
  },
  {
   "cell_type": "code",
   "execution_count": null,
   "metadata": {
    "colab": {
     "base_uri": "https://localhost:8080/"
    },
    "id": "7QAduJssd-Nl",
    "outputId": "52e7e2e0-981a-4f55-b3a8-4735478f26cf"
   },
   "outputs": [],
   "source": [
    "train_data,test_data"
   ]
  },
  {
   "cell_type": "code",
   "execution_count": null,
   "metadata": {
    "colab": {
     "base_uri": "https://localhost:8080/",
     "height": 36
    },
    "id": "m_QfTrR44R5v",
    "outputId": "3dbf5a8a-f4b2-48c4-ce4d-f2733cfe3be7"
   },
   "outputs": [],
   "source": [
    "device = 'cuda' if torch.cuda.is_available() else 'cpu'\n",
    "device"
   ]
  },
  {
   "cell_type": "code",
   "execution_count": null,
   "metadata": {
    "colab": {
     "base_uri": "https://localhost:8080/"
    },
    "id": "zPSaIjGd4zIx",
    "outputId": "f7835cf8-41b4-4102-80b0-227d1596242b"
   },
   "outputs": [],
   "source": [
    "from torch.utils.data import DataLoader\n",
    "\n",
    "#Set up batch size hyperparameter\n",
    "batch = 32\n",
    "\n",
    "train_dataloader = DataLoader(dataset=train_data,\n",
    "                              batch_size=batch,\n",
    "                            shuffle=True)\n",
    "\n",
    "test_dataloader = DataLoader(dataset= test_data,\n",
    "                             batch_size=batch,\n",
    "                             shuffle=False)\n",
    "\n",
    "train_dataloader,test_dataloader"
   ]
  },
  {
   "cell_type": "code",
   "execution_count": null,
   "metadata": {
    "colab": {
     "base_uri": "https://localhost:8080/"
    },
    "id": "y5oK1vQH51uq",
    "outputId": "64d06a6c-b2e4-4870-c6d3-8c9a8bbbaf9f"
   },
   "outputs": [],
   "source": [
    "#Check what is creaked\n",
    "print(f'DataLoaders: {train_dataloader, test_dataloader}')\n",
    "print(f'Lenght of train: {len(train_dataloader)} batches of {batch}')\n",
    "print(f'Lenght of train: {len(test_dataloader)} batches of {batch}')"
   ]
  },
  {
   "cell_type": "code",
   "execution_count": null,
   "metadata": {
    "colab": {
     "base_uri": "https://localhost:8080/"
    },
    "id": "h7lMxzpf6mab",
    "outputId": "a15210bc-5b88-492c-bdcf-2ee34a7be4df"
   },
   "outputs": [],
   "source": [
    "train_features_batch, train_labels_batch = next(iter(train_dataloader))\n",
    "train_features_batch.shape, train_labels_batch.shape"
   ]
  },
  {
   "cell_type": "code",
   "execution_count": null,
   "metadata": {
    "colab": {
     "base_uri": "https://localhost:8080/",
     "height": 463
    },
    "id": "Hap2qUEM6Cny",
    "outputId": "6f0903e1-e543-4a4e-c2fe-f8e0cfa95e72"
   },
   "outputs": [],
   "source": [
    "#Visualizing a single peice of a dataloader\n",
    "torch.manual_seed(42)\n",
    "random_idx = torch.randint(0,len(train_features_batch), size=[1]).item()\n",
    "img, label = train_features_batch[random_idx], train_labels_batch[random_idx]\n",
    "plt.imshow(img.squeeze(), cmap='hot')\n",
    "plt.title(class_names[label])\n",
    "plt.axis(False)\n",
    "print(f'Image size: {img.shape}')\n",
    "print(f'label: {label}, label size: {label.shape}')"
   ]
  },
  {
   "cell_type": "markdown",
   "metadata": {
    "id": "pXoo7k_Lq2Me"
   },
   "source": [
    "#3.Model building\n",
    "\n",
    "beginning from model 0"
   ]
  },
  {
   "cell_type": "code",
   "execution_count": null,
   "metadata": {
    "colab": {
     "base_uri": "https://localhost:8080/"
    },
    "id": "SjD6h6pH6TF1",
    "outputId": "5f0b8553-5933-4bd0-8043-d174e4872a67"
   },
   "outputs": [],
   "source": [
    "flatten_model = nn.Flatten()\n",
    "\n",
    "x=train_features_batch[0]\n",
    "\n",
    "output = flatten_model(x)\n",
    "print(output.shape)"
   ]
  },
  {
   "cell_type": "code",
   "execution_count": null,
   "metadata": {
    "id": "XUCbUzInrT4m"
   },
   "outputs": [],
   "source": [
    "import torch\n",
    "from torch import nn\n",
    "\n",
    "class FashionMNISTModelV0(nn.Module):\n",
    "    def __init__(self):\n",
    "        super().__init__()\n",
    "        self.conv_block1 = nn.Sequential(\n",
    "            nn.Conv2d(1, 32, kernel_size=3, padding=1),\n",
    "            nn.BatchNorm2d(32),\n",
    "            nn.ReLU(),\n",
    "            nn.Conv2d(32, 32, kernel_size=3, padding=1),\n",
    "            nn.BatchNorm2d(32),\n",
    "            nn.ReLU(),\n",
    "            nn.MaxPool2d(2, 2),\n",
    "            nn.Dropout(0.25)\n",
    "        )\n",
    "        self.conv_block2 = nn.Sequential(\n",
    "            nn.Conv2d(32, 64, kernel_size=3, padding=1),\n",
    "            nn.BatchNorm2d(64),\n",
    "            nn.ReLU(),\n",
    "            nn.Conv2d(64, 64, kernel_size=3, padding=1),\n",
    "            nn.BatchNorm2d(64),\n",
    "            nn.ReLU(),\n",
    "            nn.MaxPool2d(2, 2),\n",
    "            nn.Dropout(0.25)\n",
    "        )\n",
    "        self.conv_block3 = nn.Sequential(\n",
    "            nn.Conv2d(64, 128, kernel_size=3, padding=1),\n",
    "            nn.BatchNorm2d(128),\n",
    "            nn.ReLU(),\n",
    "            nn.MaxPool2d(2, 2),\n",
    "            nn.Dropout(0.25)\n",
    "        )\n",
    "        self.fc = nn.Sequential(\n",
    "            nn.Linear(128 * 3 * 3, 256),\n",
    "            nn.ReLU(),\n",
    "            nn.Dropout(0.5),\n",
    "            nn.Linear(256, 128),\n",
    "            nn.ReLU(),\n",
    "            nn.Dropout(0.5),\n",
    "            nn.Linear(128, 10)\n",
    "        )\n",
    "\n",
    "    def forward(self, x):\n",
    "        x = self.conv_block1(x)\n",
    "        x = self.conv_block2(x)\n",
    "        x = self.conv_block3(x)\n",
    "        x = torch.flatten(x, 1)\n",
    "        x = self.fc(x)\n",
    "        return x\n"
   ]
  },
  {
   "cell_type": "code",
   "execution_count": null,
   "metadata": {
    "colab": {
     "base_uri": "https://localhost:8080/"
    },
    "id": "v2hvkJA-aU7m",
    "outputId": "65a305dc-f83a-4d29-c077-e07653b5ead9"
   },
   "outputs": [],
   "source": [
    "next(model_0.parameters()).device\n"
   ]
  },
  {
   "cell_type": "code",
   "execution_count": null,
   "metadata": {
    "colab": {
     "base_uri": "https://localhost:8080/"
    },
    "id": "_oUZ0yVMrlAA",
    "outputId": "8b06cb31-de06-4f69-f590-50e53fabb913"
   },
   "outputs": [],
   "source": [
    "torch.manual_seed(42)\n",
    "\n",
    "model_0 = FashionMNISTModelV0()\n",
    "model_0.to(device)\n",
    "model_0\n"
   ]
  },
  {
   "cell_type": "code",
   "execution_count": null,
   "metadata": {
    "colab": {
     "base_uri": "https://localhost:8080/"
    },
    "id": "6-EEobDgs6in",
    "outputId": "741a51bf-cb51-4334-a5b4-c15d22298532"
   },
   "outputs": [],
   "source": [
    "dummy_x = torch.rand([1, 1, 28, 28]).to(device)\n",
    "model_0(dummy_x)\n"
   ]
  },
  {
   "cell_type": "code",
   "execution_count": null,
   "metadata": {
    "colab": {
     "base_uri": "https://localhost:8080/"
    },
    "id": "_2LcWfxqtGCb",
    "outputId": "b892a49a-7cb8-470c-ef69-d8d8c6f38286"
   },
   "outputs": [],
   "source": [
    "model_0.state_dict()"
   ]
  },
  {
   "cell_type": "code",
   "execution_count": null,
   "metadata": {
    "colab": {
     "base_uri": "https://localhost:8080/"
    },
    "id": "v4qS1KRkwKNH",
    "outputId": "cf239319-54f7-431e-ac78-045659d5b8cc"
   },
   "outputs": [],
   "source": [
    "import requests\n",
    "from pathlib import Path\n",
    "#Download helper functions\n",
    "if Path('helper_functions.py').is_file():\n",
    "  print('File already exists, skipping download')\n",
    "else:\n",
    "  print('Downloading file')\n",
    "  request = requests.get(\"https://raw.githubusercontent.com/mrdbourke/pytorch-deep-learning/af6548e52663c8395fe2777bd0fbfd6ac85fd6f8/helper_functions.py\")\n",
    "  with open('helper_functions.py','wb') as f:\n",
    "    f.write(request.content)"
   ]
  },
  {
   "cell_type": "code",
   "execution_count": null,
   "metadata": {
    "id": "vbhcy8brxCx-"
   },
   "outputs": [],
   "source": [
    "from helper_functions import accuracy_fn\n",
    "\n",
    "loss_fn =nn.CrossEntropyLoss()\n",
    "optimizer = torch.optim.SGD(params = model_0.parameters(),\n",
    "                            lr=0.1)\n"
   ]
  },
  {
   "cell_type": "code",
   "execution_count": null,
   "metadata": {
    "id": "wJndVj-vxP6u"
   },
   "outputs": [],
   "source": [
    "#Creating a function to time our experiments\n",
    "from timeit import default_timer as timer\n",
    "def print_train_time(start:float,\n",
    "                     end: float,\n",
    "                     device: torch.device = None):\n",
    "  total_time = end-start\n",
    "  print(f\"Train time on {device}: {total_time:.3f} seconds\")\n",
    "  return total_time"
   ]
  },
  {
   "cell_type": "code",
   "execution_count": null,
   "metadata": {
    "colab": {
     "base_uri": "https://localhost:8080/"
    },
    "id": "_MMmm4w6yYoz",
    "outputId": "7d1f0637-c521-419a-9742-66d45ee2061d"
   },
   "outputs": [],
   "source": [
    "start_time =timer()\n",
    "end_time=timer()\n",
    "print_train_time(start=start_time, end=end_time, device= 'cpu')"
   ]
  },
  {
   "cell_type": "code",
   "execution_count": null,
   "metadata": {
    "colab": {
     "base_uri": "https://localhost:8080/"
    },
    "id": "aGaw-MhLyoD2",
    "outputId": "32f1b315-aaa9-4761-fb75-96b51dec858a"
   },
   "outputs": [],
   "source": [
    "for epoch in tqdm(range(epochs)):\n",
    "    print(f'Epoch: {epoch}\\n-----------')\n",
    "    train_loss = 0\n",
    "    for batch, (X, y) in enumerate(train_dataloader):\n",
    "        X, y = X.to(device), y.to(device)  # <-- move to device\n",
    "\n",
    "        model_0.train()\n",
    "        y_pred = model_0(X)\n",
    "        loss = loss_fn(y_pred, y)\n",
    "        train_loss += loss\n",
    "        optimizer.zero_grad()\n",
    "        loss.backward()\n",
    "        optimizer.step()\n",
    "\n",
    "        if batch % 400 == 0:\n",
    "            print(f'Looked at {batch * len(X)}/{len(train_dataloader.dataset)} samples')\n",
    "\n",
    "    train_loss /= len(train_dataloader)\n",
    "\n",
    "    # Evaluation\n",
    "    test_loss, test_acc = 0, 0\n",
    "    model_0.eval()\n",
    "    with torch.inference_mode():\n",
    "      for X, y in test_dataloader:\n",
    "          X, y = X.to(device), y.to(device)\n",
    "          test_pred = model_0(X)\n",
    "          test_loss += loss_fn(test_pred, y).item()\n",
    "          test_acc += accuracy_fn(y_true=y, y_pred=test_pred.argmax(dim=1))\n",
    "\n",
    "\n",
    "\n",
    "    test_loss /= len(test_dataloader)\n",
    "    test_acc /= len(test_dataloader)\n",
    "    print(f'Train loss: {train_loss:.5f} | Test loss: {test_loss:.5f} | Test acc: {test_acc:.2f}')\n"
   ]
  },
  {
   "cell_type": "markdown",
   "metadata": {
    "id": "zEAl8AH43tA8"
   },
   "source": [
    "#4. Make predictions and get results"
   ]
  },
  {
   "cell_type": "code",
   "execution_count": null,
   "metadata": {
    "colab": {
     "base_uri": "https://localhost:8080/"
    },
    "id": "9YWqPMbg2vAa",
    "outputId": "d3b1af7a-ae66-49dc-a116-5234019b2e35"
   },
   "outputs": [],
   "source": [
    "from tqdm import tqdm\n",
    "def eval_model(model: torch.nn.Module,\n",
    "               data_loader: torch.utils.data.DataLoader,\n",
    "               loss_fn: torch.nn.Module,\n",
    "               accuracy_fn):\n",
    "    loss, acc = 0, 0\n",
    "    model.eval()\n",
    "    with torch.inference_mode():\n",
    "        for x, y in tqdm(data_loader):\n",
    "            x, y = x.to(device), y.to(device)  # <-- move to device\n",
    "            y_pred = model(x)\n",
    "            loss += loss_fn(y_pred, y).item()\n",
    "            acc += accuracy_fn(y_true=y, y_pred=y_pred.argmax(dim=1))\n",
    "\n",
    "        loss /= len(data_loader)\n",
    "        acc /= len(data_loader)\n",
    "\n",
    "    return {\n",
    "    'Model Name': model.__class__.__name__,\n",
    "    'Model Loss': loss,\n",
    "    'Model Accuracy': acc\n",
    "}\n",
    "\n",
    "\n",
    "\n",
    "model_0_results = eval_model(model=model_0,\n",
    "                             data_loader=test_dataloader,\n",
    "                             loss_fn=loss_fn,\n",
    "                             accuracy_fn=accuracy_fn)\n",
    "model_0_results"
   ]
  },
  {
   "cell_type": "code",
   "execution_count": null,
   "metadata": {
    "colab": {
     "base_uri": "https://localhost:8080/"
    },
    "id": "IqbpFeXhX9aA",
    "outputId": "0eb5820f-6891-42c6-e186-765ca5048b02"
   },
   "outputs": [],
   "source": [
    "!pip install Pillow\n",
    "from PIL import ImageOps"
   ]
  },
  {
   "cell_type": "code",
   "execution_count": null,
   "metadata": {
    "colab": {
     "base_uri": "https://localhost:8080/",
     "height": 463
    },
    "id": "A8XS8Ganc_fB",
    "outputId": "2b904d0a-5e50-4f04-bbd6-e5bd2e340ab4"
   },
   "outputs": [],
   "source": [
    "import torch\n",
    "from PIL import Image, ImageOps\n",
    "from torchvision import transforms\n",
    "import matplotlib.pyplot as plt\n",
    "\n",
    "device = 'cuda' if torch.cuda.is_available() else 'cpu'\n",
    "model_0.to(device)\n",
    "\n",
    "transform = transforms.Compose([\n",
    "    transforms.Resize((28, 28)),\n",
    "    transforms.Grayscale(num_output_channels=1),\n",
    "    transforms.ToTensor(),\n",
    "    transforms.Normalize((0.1307,), (0.3081,))\n",
    "])\n",
    "\n",
    "def predict_image(image_path):\n",
    "    image = Image.open(image_path).convert('L')\n",
    "    image = ImageOps.invert(image)\n",
    "    image = transform(image).unsqueeze(0).to(device)\n",
    "    model_0.eval()\n",
    "    with torch.no_grad():\n",
    "        output = model_0(image)\n",
    "        _, predicted_class = torch.max(output, 1)\n",
    "    return predicted_class.item()\n",
    "\n",
    "image_path = '/content/1.jpg'\n",
    "predicted_class = predict_image(image_path)\n",
    "print(f'Predicted Class: {predicted_class}')\n",
    "print(f'Class Name: {class_names[predicted_class]}')\n",
    "\n",
    "def show_tensor_image(tensor_img):\n",
    "    img = tensor_img.squeeze().cpu().numpy()\n",
    "    plt.imshow(img, cmap='hot')\n",
    "    plt.axis('off')\n",
    "    plt.title(\"Preprocessed Image\")\n",
    "    plt.show()\n",
    "\n",
    "image_tensor = transform(ImageOps.invert(Image.open(image_path).convert('L')))\n",
    "show_tensor_image(image_tensor)\n"
   ]
  },
  {
   "cell_type": "code",
   "execution_count": null,
   "metadata": {
    "id": "SN8gqRGrdBo8"
   },
   "outputs": [],
   "source": []
  }
 ],
 "metadata": {
  "accelerator": "GPU",
  "colab": {
   "gpuType": "T4",
   "provenance": []
  },
  "kernelspec": {
   "display_name": "Python 3",
   "name": "python3"
  },
  "language_info": {
   "name": "python"
  }
 },
 "nbformat": 4,
 "nbformat_minor": 0
}
