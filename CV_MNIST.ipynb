{
  "nbformat": 4,
  "nbformat_minor": 0,
  "metadata": {
    "colab": {
      "provenance": [],
      "gpuType": "T4"
    },
    "kernelspec": {
      "name": "python3",
      "display_name": "Python 3"
    },
    "language_info": {
      "name": "python"
    },
    "accelerator": "GPU",
    "widgets": {
      "application/vnd.jupyter.widget-state+json": {
        "4bab276b4e714acc8d5d243c18af189d": {
          "model_module": "@jupyter-widgets/controls",
          "model_name": "HBoxModel",
          "model_module_version": "1.5.0",
          "state": {
            "_dom_classes": [],
            "_model_module": "@jupyter-widgets/controls",
            "_model_module_version": "1.5.0",
            "_model_name": "HBoxModel",
            "_view_count": null,
            "_view_module": "@jupyter-widgets/controls",
            "_view_module_version": "1.5.0",
            "_view_name": "HBoxView",
            "box_style": "",
            "children": [
              "IPY_MODEL_025751e0da5e4ed8b6a5b034f381540b",
              "IPY_MODEL_d9bc103f888d4c3f92775328c6b38472",
              "IPY_MODEL_c5150cc14b504a50888234a04b8d9042"
            ],
            "layout": "IPY_MODEL_4ed24c71cdc8486da7158ed09eab8737"
          }
        },
        "025751e0da5e4ed8b6a5b034f381540b": {
          "model_module": "@jupyter-widgets/controls",
          "model_name": "HTMLModel",
          "model_module_version": "1.5.0",
          "state": {
            "_dom_classes": [],
            "_model_module": "@jupyter-widgets/controls",
            "_model_module_version": "1.5.0",
            "_model_name": "HTMLModel",
            "_view_count": null,
            "_view_module": "@jupyter-widgets/controls",
            "_view_module_version": "1.5.0",
            "_view_name": "HTMLView",
            "description": "",
            "description_tooltip": null,
            "layout": "IPY_MODEL_ac9b86a464a042d8a1e610679d989f79",
            "placeholder": "​",
            "style": "IPY_MODEL_3860278a28b94405a013c6bb5e69d318",
            "value": "100%"
          }
        },
        "d9bc103f888d4c3f92775328c6b38472": {
          "model_module": "@jupyter-widgets/controls",
          "model_name": "FloatProgressModel",
          "model_module_version": "1.5.0",
          "state": {
            "_dom_classes": [],
            "_model_module": "@jupyter-widgets/controls",
            "_model_module_version": "1.5.0",
            "_model_name": "FloatProgressModel",
            "_view_count": null,
            "_view_module": "@jupyter-widgets/controls",
            "_view_module_version": "1.5.0",
            "_view_name": "ProgressView",
            "bar_style": "success",
            "description": "",
            "description_tooltip": null,
            "layout": "IPY_MODEL_23627c8c87254cbf9dc83575f248d5a7",
            "max": 5,
            "min": 0,
            "orientation": "horizontal",
            "style": "IPY_MODEL_a0db86fa7759470eb8e923186c18e324",
            "value": 5
          }
        },
        "c5150cc14b504a50888234a04b8d9042": {
          "model_module": "@jupyter-widgets/controls",
          "model_name": "HTMLModel",
          "model_module_version": "1.5.0",
          "state": {
            "_dom_classes": [],
            "_model_module": "@jupyter-widgets/controls",
            "_model_module_version": "1.5.0",
            "_model_name": "HTMLModel",
            "_view_count": null,
            "_view_module": "@jupyter-widgets/controls",
            "_view_module_version": "1.5.0",
            "_view_name": "HTMLView",
            "description": "",
            "description_tooltip": null,
            "layout": "IPY_MODEL_a29d604d807942b89b5b368428f750e6",
            "placeholder": "​",
            "style": "IPY_MODEL_167efdae82c442fa9457e0c140358e22",
            "value": " 5/5 [01:17&lt;00:00, 15.42s/it]"
          }
        },
        "4ed24c71cdc8486da7158ed09eab8737": {
          "model_module": "@jupyter-widgets/base",
          "model_name": "LayoutModel",
          "model_module_version": "1.2.0",
          "state": {
            "_model_module": "@jupyter-widgets/base",
            "_model_module_version": "1.2.0",
            "_model_name": "LayoutModel",
            "_view_count": null,
            "_view_module": "@jupyter-widgets/base",
            "_view_module_version": "1.2.0",
            "_view_name": "LayoutView",
            "align_content": null,
            "align_items": null,
            "align_self": null,
            "border": null,
            "bottom": null,
            "display": null,
            "flex": null,
            "flex_flow": null,
            "grid_area": null,
            "grid_auto_columns": null,
            "grid_auto_flow": null,
            "grid_auto_rows": null,
            "grid_column": null,
            "grid_gap": null,
            "grid_row": null,
            "grid_template_areas": null,
            "grid_template_columns": null,
            "grid_template_rows": null,
            "height": null,
            "justify_content": null,
            "justify_items": null,
            "left": null,
            "margin": null,
            "max_height": null,
            "max_width": null,
            "min_height": null,
            "min_width": null,
            "object_fit": null,
            "object_position": null,
            "order": null,
            "overflow": null,
            "overflow_x": null,
            "overflow_y": null,
            "padding": null,
            "right": null,
            "top": null,
            "visibility": null,
            "width": null
          }
        },
        "ac9b86a464a042d8a1e610679d989f79": {
          "model_module": "@jupyter-widgets/base",
          "model_name": "LayoutModel",
          "model_module_version": "1.2.0",
          "state": {
            "_model_module": "@jupyter-widgets/base",
            "_model_module_version": "1.2.0",
            "_model_name": "LayoutModel",
            "_view_count": null,
            "_view_module": "@jupyter-widgets/base",
            "_view_module_version": "1.2.0",
            "_view_name": "LayoutView",
            "align_content": null,
            "align_items": null,
            "align_self": null,
            "border": null,
            "bottom": null,
            "display": null,
            "flex": null,
            "flex_flow": null,
            "grid_area": null,
            "grid_auto_columns": null,
            "grid_auto_flow": null,
            "grid_auto_rows": null,
            "grid_column": null,
            "grid_gap": null,
            "grid_row": null,
            "grid_template_areas": null,
            "grid_template_columns": null,
            "grid_template_rows": null,
            "height": null,
            "justify_content": null,
            "justify_items": null,
            "left": null,
            "margin": null,
            "max_height": null,
            "max_width": null,
            "min_height": null,
            "min_width": null,
            "object_fit": null,
            "object_position": null,
            "order": null,
            "overflow": null,
            "overflow_x": null,
            "overflow_y": null,
            "padding": null,
            "right": null,
            "top": null,
            "visibility": null,
            "width": null
          }
        },
        "3860278a28b94405a013c6bb5e69d318": {
          "model_module": "@jupyter-widgets/controls",
          "model_name": "DescriptionStyleModel",
          "model_module_version": "1.5.0",
          "state": {
            "_model_module": "@jupyter-widgets/controls",
            "_model_module_version": "1.5.0",
            "_model_name": "DescriptionStyleModel",
            "_view_count": null,
            "_view_module": "@jupyter-widgets/base",
            "_view_module_version": "1.2.0",
            "_view_name": "StyleView",
            "description_width": ""
          }
        },
        "23627c8c87254cbf9dc83575f248d5a7": {
          "model_module": "@jupyter-widgets/base",
          "model_name": "LayoutModel",
          "model_module_version": "1.2.0",
          "state": {
            "_model_module": "@jupyter-widgets/base",
            "_model_module_version": "1.2.0",
            "_model_name": "LayoutModel",
            "_view_count": null,
            "_view_module": "@jupyter-widgets/base",
            "_view_module_version": "1.2.0",
            "_view_name": "LayoutView",
            "align_content": null,
            "align_items": null,
            "align_self": null,
            "border": null,
            "bottom": null,
            "display": null,
            "flex": null,
            "flex_flow": null,
            "grid_area": null,
            "grid_auto_columns": null,
            "grid_auto_flow": null,
            "grid_auto_rows": null,
            "grid_column": null,
            "grid_gap": null,
            "grid_row": null,
            "grid_template_areas": null,
            "grid_template_columns": null,
            "grid_template_rows": null,
            "height": null,
            "justify_content": null,
            "justify_items": null,
            "left": null,
            "margin": null,
            "max_height": null,
            "max_width": null,
            "min_height": null,
            "min_width": null,
            "object_fit": null,
            "object_position": null,
            "order": null,
            "overflow": null,
            "overflow_x": null,
            "overflow_y": null,
            "padding": null,
            "right": null,
            "top": null,
            "visibility": null,
            "width": null
          }
        },
        "a0db86fa7759470eb8e923186c18e324": {
          "model_module": "@jupyter-widgets/controls",
          "model_name": "ProgressStyleModel",
          "model_module_version": "1.5.0",
          "state": {
            "_model_module": "@jupyter-widgets/controls",
            "_model_module_version": "1.5.0",
            "_model_name": "ProgressStyleModel",
            "_view_count": null,
            "_view_module": "@jupyter-widgets/base",
            "_view_module_version": "1.2.0",
            "_view_name": "StyleView",
            "bar_color": null,
            "description_width": ""
          }
        },
        "a29d604d807942b89b5b368428f750e6": {
          "model_module": "@jupyter-widgets/base",
          "model_name": "LayoutModel",
          "model_module_version": "1.2.0",
          "state": {
            "_model_module": "@jupyter-widgets/base",
            "_model_module_version": "1.2.0",
            "_model_name": "LayoutModel",
            "_view_count": null,
            "_view_module": "@jupyter-widgets/base",
            "_view_module_version": "1.2.0",
            "_view_name": "LayoutView",
            "align_content": null,
            "align_items": null,
            "align_self": null,
            "border": null,
            "bottom": null,
            "display": null,
            "flex": null,
            "flex_flow": null,
            "grid_area": null,
            "grid_auto_columns": null,
            "grid_auto_flow": null,
            "grid_auto_rows": null,
            "grid_column": null,
            "grid_gap": null,
            "grid_row": null,
            "grid_template_areas": null,
            "grid_template_columns": null,
            "grid_template_rows": null,
            "height": null,
            "justify_content": null,
            "justify_items": null,
            "left": null,
            "margin": null,
            "max_height": null,
            "max_width": null,
            "min_height": null,
            "min_width": null,
            "object_fit": null,
            "object_position": null,
            "order": null,
            "overflow": null,
            "overflow_x": null,
            "overflow_y": null,
            "padding": null,
            "right": null,
            "top": null,
            "visibility": null,
            "width": null
          }
        },
        "167efdae82c442fa9457e0c140358e22": {
          "model_module": "@jupyter-widgets/controls",
          "model_name": "DescriptionStyleModel",
          "model_module_version": "1.5.0",
          "state": {
            "_model_module": "@jupyter-widgets/controls",
            "_model_module_version": "1.5.0",
            "_model_name": "DescriptionStyleModel",
            "_view_count": null,
            "_view_module": "@jupyter-widgets/base",
            "_view_module_version": "1.2.0",
            "_view_name": "StyleView",
            "description_width": ""
          }
        }
      }
    }
  },
  "cells": [
    {
      "cell_type": "markdown",
      "source": [
        "# PyTorch Computer vision"
      ],
      "metadata": {
        "id": "CZ3bL6PxAR5Q"
      }
    },
    {
      "cell_type": "markdown",
      "source": [
        "## 1.Computer vision libraries\n",
        "\n",
        "* torchvision - base domain library\n",
        "* torchvision.datasets\n",
        "* torchvision.models - get pretrained models\n",
        "* torchvision.transformers\n",
        "* torch.utils.data.Dataset\n",
        "* torch.utils.data.DataLoader\n",
        "\n"
      ],
      "metadata": {
        "id": "beLtfhvXFqDH"
      }
    },
    {
      "cell_type": "code",
      "source": [
        "import torch\n",
        "from torch import nn\n",
        "#Torch Vison\n",
        "import torchvision\n",
        "from torchvision import datasets\n",
        "from torchvision import transforms\n",
        "from torchvision.transforms import ToTensor\n",
        "\n",
        "import matplotlib.pyplot as plt\n",
        "print(torch.__version__)\n",
        "print(torchvision.__version__)"
      ],
      "metadata": {
        "colab": {
          "base_uri": "https://localhost:8080/"
        },
        "id": "IwK49ZfFYDVX",
        "outputId": "fd97eefc-a4fc-4031-e4d2-c257f0e8b9bd"
      },
      "execution_count": 1,
      "outputs": [
        {
          "output_type": "stream",
          "name": "stdout",
          "text": [
            "2.6.0+cu124\n",
            "0.21.0+cu124\n"
          ]
        }
      ]
    },
    {
      "cell_type": "markdown",
      "source": [
        "##1.Getting a Dataset\n",
        ">  MNIST\n"
      ],
      "metadata": {
        "id": "8yeb9bC_ZU7P"
      }
    },
    {
      "cell_type": "code",
      "source": [
        "#Setup training data\n",
        "train_data = datasets.MNIST(\n",
        "    root = 'data',\n",
        "    train =True,\n",
        "    download=True,\n",
        "    transform=ToTensor(),\n",
        "    target_transform=None\n",
        ")\n",
        "test_data =  datasets.MNIST(\n",
        "    root = 'data',\n",
        "    train=False,\n",
        "    download=True,\n",
        "    transform=ToTensor(),\n",
        "    target_transform=None\n",
        ")"
      ],
      "metadata": {
        "colab": {
          "base_uri": "https://localhost:8080/"
        },
        "id": "m2PDsJj0Ytf9",
        "outputId": "412c85e4-6f12-4126-9dee-86126c1e5dd1"
      },
      "execution_count": 2,
      "outputs": [
        {
          "output_type": "stream",
          "name": "stderr",
          "text": [
            "100%|██████████| 9.91M/9.91M [00:00<00:00, 17.6MB/s]\n",
            "100%|██████████| 28.9k/28.9k [00:00<00:00, 489kB/s]\n",
            "100%|██████████| 1.65M/1.65M [00:00<00:00, 4.47MB/s]\n",
            "100%|██████████| 4.54k/4.54k [00:00<00:00, 7.01MB/s]\n"
          ]
        }
      ]
    },
    {
      "cell_type": "code",
      "source": [
        "len(train_data), len(test_data)"
      ],
      "metadata": {
        "colab": {
          "base_uri": "https://localhost:8080/"
        },
        "id": "ouvM5rRvbAFc",
        "outputId": "062ca39c-b8d6-437b-bc38-bf460df661e4"
      },
      "execution_count": 3,
      "outputs": [
        {
          "output_type": "execute_result",
          "data": {
            "text/plain": [
              "(60000, 10000)"
            ]
          },
          "metadata": {},
          "execution_count": 3
        }
      ]
    },
    {
      "cell_type": "code",
      "source": [
        "image, label = train_data[0]\n",
        "image, label"
      ],
      "metadata": {
        "colab": {
          "base_uri": "https://localhost:8080/"
        },
        "id": "WWfGNGyybN86",
        "outputId": "785f668e-42a9-443c-ae55-d60031746e26"
      },
      "execution_count": 4,
      "outputs": [
        {
          "output_type": "execute_result",
          "data": {
            "text/plain": [
              "(tensor([[[0.0000, 0.0000, 0.0000, 0.0000, 0.0000, 0.0000, 0.0000, 0.0000,\n",
              "           0.0000, 0.0000, 0.0000, 0.0000, 0.0000, 0.0000, 0.0000, 0.0000,\n",
              "           0.0000, 0.0000, 0.0000, 0.0000, 0.0000, 0.0000, 0.0000, 0.0000,\n",
              "           0.0000, 0.0000, 0.0000, 0.0000],\n",
              "          [0.0000, 0.0000, 0.0000, 0.0000, 0.0000, 0.0000, 0.0000, 0.0000,\n",
              "           0.0000, 0.0000, 0.0000, 0.0000, 0.0000, 0.0000, 0.0000, 0.0000,\n",
              "           0.0000, 0.0000, 0.0000, 0.0000, 0.0000, 0.0000, 0.0000, 0.0000,\n",
              "           0.0000, 0.0000, 0.0000, 0.0000],\n",
              "          [0.0000, 0.0000, 0.0000, 0.0000, 0.0000, 0.0000, 0.0000, 0.0000,\n",
              "           0.0000, 0.0000, 0.0000, 0.0000, 0.0000, 0.0000, 0.0000, 0.0000,\n",
              "           0.0000, 0.0000, 0.0000, 0.0000, 0.0000, 0.0000, 0.0000, 0.0000,\n",
              "           0.0000, 0.0000, 0.0000, 0.0000],\n",
              "          [0.0000, 0.0000, 0.0000, 0.0000, 0.0000, 0.0000, 0.0000, 0.0000,\n",
              "           0.0000, 0.0000, 0.0000, 0.0000, 0.0000, 0.0000, 0.0000, 0.0000,\n",
              "           0.0000, 0.0000, 0.0000, 0.0000, 0.0000, 0.0000, 0.0000, 0.0000,\n",
              "           0.0000, 0.0000, 0.0000, 0.0000],\n",
              "          [0.0000, 0.0000, 0.0000, 0.0000, 0.0000, 0.0000, 0.0000, 0.0000,\n",
              "           0.0000, 0.0000, 0.0000, 0.0000, 0.0000, 0.0000, 0.0000, 0.0000,\n",
              "           0.0000, 0.0000, 0.0000, 0.0000, 0.0000, 0.0000, 0.0000, 0.0000,\n",
              "           0.0000, 0.0000, 0.0000, 0.0000],\n",
              "          [0.0000, 0.0000, 0.0000, 0.0000, 0.0000, 0.0000, 0.0000, 0.0000,\n",
              "           0.0000, 0.0000, 0.0000, 0.0000, 0.0118, 0.0706, 0.0706, 0.0706,\n",
              "           0.4941, 0.5333, 0.6863, 0.1020, 0.6510, 1.0000, 0.9686, 0.4980,\n",
              "           0.0000, 0.0000, 0.0000, 0.0000],\n",
              "          [0.0000, 0.0000, 0.0000, 0.0000, 0.0000, 0.0000, 0.0000, 0.0000,\n",
              "           0.1176, 0.1412, 0.3686, 0.6039, 0.6667, 0.9922, 0.9922, 0.9922,\n",
              "           0.9922, 0.9922, 0.8824, 0.6745, 0.9922, 0.9490, 0.7647, 0.2510,\n",
              "           0.0000, 0.0000, 0.0000, 0.0000],\n",
              "          [0.0000, 0.0000, 0.0000, 0.0000, 0.0000, 0.0000, 0.0000, 0.1922,\n",
              "           0.9333, 0.9922, 0.9922, 0.9922, 0.9922, 0.9922, 0.9922, 0.9922,\n",
              "           0.9922, 0.9843, 0.3647, 0.3216, 0.3216, 0.2196, 0.1529, 0.0000,\n",
              "           0.0000, 0.0000, 0.0000, 0.0000],\n",
              "          [0.0000, 0.0000, 0.0000, 0.0000, 0.0000, 0.0000, 0.0000, 0.0706,\n",
              "           0.8588, 0.9922, 0.9922, 0.9922, 0.9922, 0.9922, 0.7765, 0.7137,\n",
              "           0.9686, 0.9451, 0.0000, 0.0000, 0.0000, 0.0000, 0.0000, 0.0000,\n",
              "           0.0000, 0.0000, 0.0000, 0.0000],\n",
              "          [0.0000, 0.0000, 0.0000, 0.0000, 0.0000, 0.0000, 0.0000, 0.0000,\n",
              "           0.3137, 0.6118, 0.4196, 0.9922, 0.9922, 0.8039, 0.0431, 0.0000,\n",
              "           0.1686, 0.6039, 0.0000, 0.0000, 0.0000, 0.0000, 0.0000, 0.0000,\n",
              "           0.0000, 0.0000, 0.0000, 0.0000],\n",
              "          [0.0000, 0.0000, 0.0000, 0.0000, 0.0000, 0.0000, 0.0000, 0.0000,\n",
              "           0.0000, 0.0549, 0.0039, 0.6039, 0.9922, 0.3529, 0.0000, 0.0000,\n",
              "           0.0000, 0.0000, 0.0000, 0.0000, 0.0000, 0.0000, 0.0000, 0.0000,\n",
              "           0.0000, 0.0000, 0.0000, 0.0000],\n",
              "          [0.0000, 0.0000, 0.0000, 0.0000, 0.0000, 0.0000, 0.0000, 0.0000,\n",
              "           0.0000, 0.0000, 0.0000, 0.5451, 0.9922, 0.7451, 0.0078, 0.0000,\n",
              "           0.0000, 0.0000, 0.0000, 0.0000, 0.0000, 0.0000, 0.0000, 0.0000,\n",
              "           0.0000, 0.0000, 0.0000, 0.0000],\n",
              "          [0.0000, 0.0000, 0.0000, 0.0000, 0.0000, 0.0000, 0.0000, 0.0000,\n",
              "           0.0000, 0.0000, 0.0000, 0.0431, 0.7451, 0.9922, 0.2745, 0.0000,\n",
              "           0.0000, 0.0000, 0.0000, 0.0000, 0.0000, 0.0000, 0.0000, 0.0000,\n",
              "           0.0000, 0.0000, 0.0000, 0.0000],\n",
              "          [0.0000, 0.0000, 0.0000, 0.0000, 0.0000, 0.0000, 0.0000, 0.0000,\n",
              "           0.0000, 0.0000, 0.0000, 0.0000, 0.1373, 0.9451, 0.8824, 0.6275,\n",
              "           0.4235, 0.0039, 0.0000, 0.0000, 0.0000, 0.0000, 0.0000, 0.0000,\n",
              "           0.0000, 0.0000, 0.0000, 0.0000],\n",
              "          [0.0000, 0.0000, 0.0000, 0.0000, 0.0000, 0.0000, 0.0000, 0.0000,\n",
              "           0.0000, 0.0000, 0.0000, 0.0000, 0.0000, 0.3176, 0.9412, 0.9922,\n",
              "           0.9922, 0.4667, 0.0980, 0.0000, 0.0000, 0.0000, 0.0000, 0.0000,\n",
              "           0.0000, 0.0000, 0.0000, 0.0000],\n",
              "          [0.0000, 0.0000, 0.0000, 0.0000, 0.0000, 0.0000, 0.0000, 0.0000,\n",
              "           0.0000, 0.0000, 0.0000, 0.0000, 0.0000, 0.0000, 0.1765, 0.7294,\n",
              "           0.9922, 0.9922, 0.5882, 0.1059, 0.0000, 0.0000, 0.0000, 0.0000,\n",
              "           0.0000, 0.0000, 0.0000, 0.0000],\n",
              "          [0.0000, 0.0000, 0.0000, 0.0000, 0.0000, 0.0000, 0.0000, 0.0000,\n",
              "           0.0000, 0.0000, 0.0000, 0.0000, 0.0000, 0.0000, 0.0000, 0.0627,\n",
              "           0.3647, 0.9882, 0.9922, 0.7333, 0.0000, 0.0000, 0.0000, 0.0000,\n",
              "           0.0000, 0.0000, 0.0000, 0.0000],\n",
              "          [0.0000, 0.0000, 0.0000, 0.0000, 0.0000, 0.0000, 0.0000, 0.0000,\n",
              "           0.0000, 0.0000, 0.0000, 0.0000, 0.0000, 0.0000, 0.0000, 0.0000,\n",
              "           0.0000, 0.9765, 0.9922, 0.9765, 0.2510, 0.0000, 0.0000, 0.0000,\n",
              "           0.0000, 0.0000, 0.0000, 0.0000],\n",
              "          [0.0000, 0.0000, 0.0000, 0.0000, 0.0000, 0.0000, 0.0000, 0.0000,\n",
              "           0.0000, 0.0000, 0.0000, 0.0000, 0.0000, 0.0000, 0.1804, 0.5098,\n",
              "           0.7176, 0.9922, 0.9922, 0.8118, 0.0078, 0.0000, 0.0000, 0.0000,\n",
              "           0.0000, 0.0000, 0.0000, 0.0000],\n",
              "          [0.0000, 0.0000, 0.0000, 0.0000, 0.0000, 0.0000, 0.0000, 0.0000,\n",
              "           0.0000, 0.0000, 0.0000, 0.0000, 0.1529, 0.5804, 0.8980, 0.9922,\n",
              "           0.9922, 0.9922, 0.9804, 0.7137, 0.0000, 0.0000, 0.0000, 0.0000,\n",
              "           0.0000, 0.0000, 0.0000, 0.0000],\n",
              "          [0.0000, 0.0000, 0.0000, 0.0000, 0.0000, 0.0000, 0.0000, 0.0000,\n",
              "           0.0000, 0.0000, 0.0941, 0.4471, 0.8667, 0.9922, 0.9922, 0.9922,\n",
              "           0.9922, 0.7882, 0.3059, 0.0000, 0.0000, 0.0000, 0.0000, 0.0000,\n",
              "           0.0000, 0.0000, 0.0000, 0.0000],\n",
              "          [0.0000, 0.0000, 0.0000, 0.0000, 0.0000, 0.0000, 0.0000, 0.0000,\n",
              "           0.0902, 0.2588, 0.8353, 0.9922, 0.9922, 0.9922, 0.9922, 0.7765,\n",
              "           0.3176, 0.0078, 0.0000, 0.0000, 0.0000, 0.0000, 0.0000, 0.0000,\n",
              "           0.0000, 0.0000, 0.0000, 0.0000],\n",
              "          [0.0000, 0.0000, 0.0000, 0.0000, 0.0000, 0.0000, 0.0706, 0.6706,\n",
              "           0.8588, 0.9922, 0.9922, 0.9922, 0.9922, 0.7647, 0.3137, 0.0353,\n",
              "           0.0000, 0.0000, 0.0000, 0.0000, 0.0000, 0.0000, 0.0000, 0.0000,\n",
              "           0.0000, 0.0000, 0.0000, 0.0000],\n",
              "          [0.0000, 0.0000, 0.0000, 0.0000, 0.2157, 0.6745, 0.8863, 0.9922,\n",
              "           0.9922, 0.9922, 0.9922, 0.9569, 0.5216, 0.0431, 0.0000, 0.0000,\n",
              "           0.0000, 0.0000, 0.0000, 0.0000, 0.0000, 0.0000, 0.0000, 0.0000,\n",
              "           0.0000, 0.0000, 0.0000, 0.0000],\n",
              "          [0.0000, 0.0000, 0.0000, 0.0000, 0.5333, 0.9922, 0.9922, 0.9922,\n",
              "           0.8314, 0.5294, 0.5176, 0.0627, 0.0000, 0.0000, 0.0000, 0.0000,\n",
              "           0.0000, 0.0000, 0.0000, 0.0000, 0.0000, 0.0000, 0.0000, 0.0000,\n",
              "           0.0000, 0.0000, 0.0000, 0.0000],\n",
              "          [0.0000, 0.0000, 0.0000, 0.0000, 0.0000, 0.0000, 0.0000, 0.0000,\n",
              "           0.0000, 0.0000, 0.0000, 0.0000, 0.0000, 0.0000, 0.0000, 0.0000,\n",
              "           0.0000, 0.0000, 0.0000, 0.0000, 0.0000, 0.0000, 0.0000, 0.0000,\n",
              "           0.0000, 0.0000, 0.0000, 0.0000],\n",
              "          [0.0000, 0.0000, 0.0000, 0.0000, 0.0000, 0.0000, 0.0000, 0.0000,\n",
              "           0.0000, 0.0000, 0.0000, 0.0000, 0.0000, 0.0000, 0.0000, 0.0000,\n",
              "           0.0000, 0.0000, 0.0000, 0.0000, 0.0000, 0.0000, 0.0000, 0.0000,\n",
              "           0.0000, 0.0000, 0.0000, 0.0000],\n",
              "          [0.0000, 0.0000, 0.0000, 0.0000, 0.0000, 0.0000, 0.0000, 0.0000,\n",
              "           0.0000, 0.0000, 0.0000, 0.0000, 0.0000, 0.0000, 0.0000, 0.0000,\n",
              "           0.0000, 0.0000, 0.0000, 0.0000, 0.0000, 0.0000, 0.0000, 0.0000,\n",
              "           0.0000, 0.0000, 0.0000, 0.0000]]]),\n",
              " 5)"
            ]
          },
          "metadata": {},
          "execution_count": 4
        }
      ]
    },
    {
      "cell_type": "code",
      "source": [
        "class_names = train_data.classes\n",
        "class_names"
      ],
      "metadata": {
        "colab": {
          "base_uri": "https://localhost:8080/"
        },
        "id": "fq5QWz7LbbS-",
        "outputId": "8513ed2f-b955-4604-ad23-2337756c3dbb"
      },
      "execution_count": 5,
      "outputs": [
        {
          "output_type": "execute_result",
          "data": {
            "text/plain": [
              "['0 - zero',\n",
              " '1 - one',\n",
              " '2 - two',\n",
              " '3 - three',\n",
              " '4 - four',\n",
              " '5 - five',\n",
              " '6 - six',\n",
              " '7 - seven',\n",
              " '8 - eight',\n",
              " '9 - nine']"
            ]
          },
          "metadata": {},
          "execution_count": 5
        }
      ]
    },
    {
      "cell_type": "code",
      "source": [
        "class_to_idx = train_data.class_to_idx\n",
        "class_to_idx"
      ],
      "metadata": {
        "colab": {
          "base_uri": "https://localhost:8080/"
        },
        "id": "uT4ac1nKbnKD",
        "outputId": "408cd42c-d972-47dd-b2f5-1a3e3e43dc71"
      },
      "execution_count": 6,
      "outputs": [
        {
          "output_type": "execute_result",
          "data": {
            "text/plain": [
              "{'0 - zero': 0,\n",
              " '1 - one': 1,\n",
              " '2 - two': 2,\n",
              " '3 - three': 3,\n",
              " '4 - four': 4,\n",
              " '5 - five': 5,\n",
              " '6 - six': 6,\n",
              " '7 - seven': 7,\n",
              " '8 - eight': 8,\n",
              " '9 - nine': 9}"
            ]
          },
          "metadata": {},
          "execution_count": 6
        }
      ]
    },
    {
      "cell_type": "code",
      "source": [
        "train_data.targets"
      ],
      "metadata": {
        "colab": {
          "base_uri": "https://localhost:8080/"
        },
        "id": "QailtZ2mbsIf",
        "outputId": "1a808642-eec9-4324-9be9-5a52f27cd45e"
      },
      "execution_count": 7,
      "outputs": [
        {
          "output_type": "execute_result",
          "data": {
            "text/plain": [
              "tensor([5, 0, 4,  ..., 5, 6, 8])"
            ]
          },
          "metadata": {},
          "execution_count": 7
        }
      ]
    },
    {
      "cell_type": "code",
      "source": [
        "print(f'Image shape={image.shape}, Labels ={label}')"
      ],
      "metadata": {
        "colab": {
          "base_uri": "https://localhost:8080/"
        },
        "id": "ULP2jifKbuuu",
        "outputId": "bc68381c-6550-4d78-e76f-19289144c014"
      },
      "execution_count": 8,
      "outputs": [
        {
          "output_type": "stream",
          "name": "stdout",
          "text": [
            "Image shape=torch.Size([1, 28, 28]), Labels =5\n"
          ]
        }
      ]
    },
    {
      "cell_type": "code",
      "source": [
        "#Visualize\n",
        "import matplotlib.pyplot as plt\n",
        "image ,label = train_data[0]\n",
        "plt.title(class_names[label])\n",
        "plt.imshow(image.squeeze(), cmap='hot')\n",
        "plt.axis(False)"
      ],
      "metadata": {
        "colab": {
          "base_uri": "https://localhost:8080/",
          "height": 445
        },
        "id": "kKBfhdenbyJN",
        "outputId": "c01c2b57-d546-4f5d-f48a-a72dd78d73e7"
      },
      "execution_count": 11,
      "outputs": [
        {
          "output_type": "execute_result",
          "data": {
            "text/plain": [
              "(np.float64(-0.5), np.float64(27.5), np.float64(27.5), np.float64(-0.5))"
            ]
          },
          "metadata": {},
          "execution_count": 11
        },
        {
          "output_type": "display_data",
          "data": {
            "text/plain": [
              "<Figure size 640x480 with 1 Axes>"
            ],
            "image/png": "[encoded data removed]"
          },
          "metadata": {}
        }
      ]
    },
    {
      "cell_type": "code",
      "source": [
        "#Plot more images\n",
        "torch.manual_seed(42)\n",
        "fig = plt.figure(figsize=(9,9))\n",
        "rows, cols =4, 4\n",
        "for i in range(1, rows*cols+1):\n",
        "  rand = torch.randint(0,len(train_data), size=[1]).item()\n",
        "  img, label = train_data[rand]\n",
        "  fig.add_subplot(rows,cols, i)\n",
        "  plt.imshow(img.squeeze(), cmap='hot')\n",
        "  plt.title(class_names[label])\n",
        "  plt.axis(False)"
      ],
      "metadata": {
        "colab": {
          "base_uri": "https://localhost:8080/",
          "height": 752
        },
        "id": "hbvlVEo7cZnK",
        "outputId": "7b456e4b-e7b6-448b-9c0a-75f74d25bf2e"
      },
      "execution_count": 12,
      "outputs": [
        {
          "output_type": "display_data",
          "data": {
            "text/plain": [
              "<Figure size 900x900 with 16 Axes>"
            ],
            "image/png": "[encoded data removed]"
          },
          "metadata": {}
        }
      ]
    },
    {
      "cell_type": "markdown",
      "source": [
        "# 2.Prepare Data Loader"
      ],
      "metadata": {
        "id": "0vqLNtKr35zy"
      }
    },
    {
      "cell_type": "code",
      "source": [
        "train_data,test_data"
      ],
      "metadata": {
        "colab": {
          "base_uri": "https://localhost:8080/"
        },
        "id": "7QAduJssd-Nl",
        "outputId": "f655c029-98cc-4308-ddbc-3ff9ea3ca23f"
      },
      "execution_count": 13,
      "outputs": [
        {
          "output_type": "execute_result",
          "data": {
            "text/plain": [
              "(Dataset MNIST\n",
              "     Number of datapoints: 60000\n",
              "     Root location: data\n",
              "     Split: Train\n",
              "     StandardTransform\n",
              " Transform: ToTensor(),\n",
              " Dataset MNIST\n",
              "     Number of datapoints: 10000\n",
              "     Root location: data\n",
              "     Split: Test\n",
              "     StandardTransform\n",
              " Transform: ToTensor())"
            ]
          },
          "metadata": {},
          "execution_count": 13
        }
      ]
    },
    {
      "cell_type": "code",
      "source": [
        "device = 'cuda' if torch.cuda.is_available() else 'cpu'\n",
        "device"
      ],
      "metadata": {
        "colab": {
          "base_uri": "https://localhost:8080/",
          "height": 36
        },
        "id": "m_QfTrR44R5v",
        "outputId": "d94fac2a-e2a4-46f6-a0ad-7a32b0222bf2"
      },
      "execution_count": 14,
      "outputs": [
        {
          "output_type": "execute_result",
          "data": {
            "text/plain": [
              "'cuda'"
            ],
            "application/vnd.google.colaboratory.intrinsic+json": {
              "type": "string"
            }
          },
          "metadata": {},
          "execution_count": 14
        }
      ]
    },
    {
      "cell_type": "code",
      "source": [
        "from torch.utils.data import DataLoader\n",
        "\n",
        "#Set up batch size hyperparameter\n",
        "batch = 32\n",
        "\n",
        "train_dataloader = DataLoader(dataset=train_data,\n",
        "                              batch_size=batch,\n",
        "                            shuffle=True)\n",
        "\n",
        "test_dataloader = DataLoader(dataset= test_data,\n",
        "                             batch_size=batch,\n",
        "                             shuffle=False)\n",
        "\n",
        "train_dataloader,test_dataloader"
      ],
      "metadata": {
        "colab": {
          "base_uri": "https://localhost:8080/"
        },
        "id": "zPSaIjGd4zIx",
        "outputId": "6735bab4-49f4-4c80-8bbe-0199b2e10440"
      },
      "execution_count": 15,
      "outputs": [
        {
          "output_type": "execute_result",
          "data": {
            "text/plain": [
              "(<torch.utils.data.dataloader.DataLoader at 0x7e0caaba1210>,\n",
              " <torch.utils.data.dataloader.DataLoader at 0x7e0da5ead850>)"
            ]
          },
          "metadata": {},
          "execution_count": 15
        }
      ]
    },
    {
      "cell_type": "code",
      "source": [
        "#Check what is creaked\n",
        "print(f'DataLoaders: {train_dataloader, test_dataloader}')\n",
        "print(f'Lenght of train: {len(train_dataloader)} batches of {batch}')\n",
        "print(f'Lenght of train: {len(test_dataloader)} batches of {batch}')"
      ],
      "metadata": {
        "colab": {
          "base_uri": "https://localhost:8080/"
        },
        "id": "y5oK1vQH51uq",
        "outputId": "0988d860-15ea-4499-dd46-a8d5a5745980"
      },
      "execution_count": 16,
      "outputs": [
        {
          "output_type": "stream",
          "name": "stdout",
          "text": [
            "DataLoaders: (<torch.utils.data.dataloader.DataLoader object at 0x7e0caaba1210>, <torch.utils.data.dataloader.DataLoader object at 0x7e0da5ead850>)\n",
            "Lenght of train: 1875 batches of 32\n",
            "Lenght of train: 313 batches of 32\n"
          ]
        }
      ]
    },
    {
      "cell_type": "code",
      "source": [
        "train_features_batch, train_labels_batch = next(iter(train_dataloader))\n",
        "train_features_batch.shape, train_labels_batch.shape"
      ],
      "metadata": {
        "colab": {
          "base_uri": "https://localhost:8080/"
        },
        "id": "h7lMxzpf6mab",
        "outputId": "1af76907-b262-4a19-924b-12b0125708eb"
      },
      "execution_count": 17,
      "outputs": [
        {
          "output_type": "execute_result",
          "data": {
            "text/plain": [
              "(torch.Size([32, 1, 28, 28]), torch.Size([32]))"
            ]
          },
          "metadata": {},
          "execution_count": 17
        }
      ]
    },
    {
      "cell_type": "code",
      "source": [
        "#Visualizing a single peice of a dataloader\n",
        "torch.manual_seed(42)\n",
        "random_idx = torch.randint(0,len(train_features_batch), size=[1]).item()\n",
        "img, label = train_features_batch[random_idx], train_labels_batch[random_idx]\n",
        "plt.imshow(img.squeeze(), cmap='hot')\n",
        "plt.title(class_names[label])\n",
        "plt.axis(False)\n",
        "print(f'Image size: {img.shape}')\n",
        "print(f'label: {label}, label size: {label.shape}')"
      ],
      "metadata": {
        "colab": {
          "base_uri": "https://localhost:8080/",
          "height": 463
        },
        "id": "Hap2qUEM6Cny",
        "outputId": "7bc8b6ae-064e-4cc8-84e0-d84dbdf7fafc"
      },
      "execution_count": 18,
      "outputs": [
        {
          "output_type": "stream",
          "name": "stdout",
          "text": [
            "Image size: torch.Size([1, 28, 28])\n",
            "label: 9, label size: torch.Size([])\n"
          ]
        },
        {
          "output_type": "display_data",
          "data": {
            "text/plain": [
              "<Figure size 640x480 with 1 Axes>"
            ],
            "image/png": "[encoded data removed]"
          },
          "metadata": {}
        }
      ]
    },
    {
      "cell_type": "markdown",
      "source": [
        "#3.Model building\n",
        "\n",
        "beginning from model 0"
      ],
      "metadata": {
        "id": "pXoo7k_Lq2Me"
      }
    },
    {
      "cell_type": "code",
      "source": [
        "flatten_model = nn.Flatten()\n",
        "\n",
        "x=train_features_batch[0]\n",
        "\n",
        "output = flatten_model(x)\n",
        "print(output.shape)"
      ],
      "metadata": {
        "id": "SjD6h6pH6TF1",
        "colab": {
          "base_uri": "https://localhost:8080/"
        },
        "outputId": "676e9911-0f27-4a3c-d982-e0ea613bea2a"
      },
      "execution_count": 19,
      "outputs": [
        {
          "output_type": "stream",
          "name": "stdout",
          "text": [
            "torch.Size([1, 784])\n"
          ]
        }
      ]
    },
    {
      "cell_type": "code",
      "source": [
        "import torch\n",
        "from torch import nn\n",
        "\n",
        "class FashionMNISTModelV0(nn.Module):\n",
        "    def __init__(self):\n",
        "        super().__init__()\n",
        "        self.conv_block1 = nn.Sequential(\n",
        "            nn.Conv2d(1, 32, kernel_size=3, padding=1),\n",
        "            nn.BatchNorm2d(32),\n",
        "            nn.ReLU(),\n",
        "            nn.Conv2d(32, 32, kernel_size=3, padding=1),\n",
        "            nn.BatchNorm2d(32),\n",
        "            nn.ReLU(),\n",
        "            nn.MaxPool2d(2, 2),\n",
        "            nn.Dropout(0.25)\n",
        "        )\n",
        "        self.conv_block2 = nn.Sequential(\n",
        "            nn.Conv2d(32, 64, kernel_size=3, padding=1),\n",
        "            nn.BatchNorm2d(64),\n",
        "            nn.ReLU(),\n",
        "            nn.Conv2d(64, 64, kernel_size=3, padding=1),\n",
        "            nn.BatchNorm2d(64),\n",
        "            nn.ReLU(),\n",
        "            nn.MaxPool2d(2, 2),\n",
        "            nn.Dropout(0.25)\n",
        "        )\n",
        "        self.conv_block3 = nn.Sequential(\n",
        "            nn.Conv2d(64, 128, kernel_size=3, padding=1),\n",
        "            nn.BatchNorm2d(128),\n",
        "            nn.ReLU(),\n",
        "            nn.MaxPool2d(2, 2),\n",
        "            nn.Dropout(0.25)\n",
        "        )\n",
        "        self.fc = nn.Sequential(\n",
        "            nn.Linear(128 * 3 * 3, 256),\n",
        "            nn.ReLU(),\n",
        "            nn.Dropout(0.5),\n",
        "            nn.Linear(256, 128),\n",
        "            nn.ReLU(),\n",
        "            nn.Dropout(0.5),\n",
        "            nn.Linear(128, 10)\n",
        "        )\n",
        "\n",
        "    def forward(self, x):\n",
        "        x = self.conv_block1(x)\n",
        "        x = self.conv_block2(x)\n",
        "        x = self.conv_block3(x)\n",
        "        x = torch.flatten(x, 1)\n",
        "        x = self.fc(x)\n",
        "        return x\n"
      ],
      "metadata": {
        "id": "XUCbUzInrT4m"
      },
      "execution_count": 50,
      "outputs": []
    },
    {
      "cell_type": "code",
      "source": [
        "next(model_0.parameters()).device\n"
      ],
      "metadata": {
        "colab": {
          "base_uri": "https://localhost:8080/"
        },
        "id": "v2hvkJA-aU7m",
        "outputId": "7ae6270b-5076-4c0d-d247-24714b00c181"
      },
      "execution_count": 53,
      "outputs": [
        {
          "output_type": "execute_result",
          "data": {
            "text/plain": [
              "device(type='cuda', index=0)"
            ]
          },
          "metadata": {},
          "execution_count": 53
        }
      ]
    },
    {
      "cell_type": "code",
      "source": [
        "torch.manual_seed(42)\n",
        "\n",
        "model_0 = FashionMNISTModelV0()\n",
        "model_0.to(device)\n",
        "model_0\n"
      ],
      "metadata": {
        "colab": {
          "base_uri": "https://localhost:8080/"
        },
        "id": "_oUZ0yVMrlAA",
        "outputId": "8f7a93f4-ff09-4dd6-e7ac-0f9d0a9216c7"
      },
      "execution_count": 51,
      "outputs": [
        {
          "output_type": "execute_result",
          "data": {
            "text/plain": [
              "FashionMNISTModelV0(\n",
              "  (conv_block1): Sequential(\n",
              "    (0): Conv2d(1, 32, kernel_size=(3, 3), stride=(1, 1), padding=(1, 1))\n",
              "    (1): BatchNorm2d(32, eps=1e-05, momentum=0.1, affine=True, track_running_stats=True)\n",
              "    (2): ReLU()\n",
              "    (3): Conv2d(32, 32, kernel_size=(3, 3), stride=(1, 1), padding=(1, 1))\n",
              "    (4): BatchNorm2d(32, eps=1e-05, momentum=0.1, affine=True, track_running_stats=True)\n",
              "    (5): ReLU()\n",
              "    (6): MaxPool2d(kernel_size=2, stride=2, padding=0, dilation=1, ceil_mode=False)\n",
              "    (7): Dropout(p=0.25, inplace=False)\n",
              "  )\n",
              "  (conv_block2): Sequential(\n",
              "    (0): Conv2d(32, 64, kernel_size=(3, 3), stride=(1, 1), padding=(1, 1))\n",
              "    (1): BatchNorm2d(64, eps=1e-05, momentum=0.1, affine=True, track_running_stats=True)\n",
              "    (2): ReLU()\n",
              "    (3): Conv2d(64, 64, kernel_size=(3, 3), stride=(1, 1), padding=(1, 1))\n",
              "    (4): BatchNorm2d(64, eps=1e-05, momentum=0.1, affine=True, track_running_stats=True)\n",
              "    (5): ReLU()\n",
              "    (6): MaxPool2d(kernel_size=2, stride=2, padding=0, dilation=1, ceil_mode=False)\n",
              "    (7): Dropout(p=0.25, inplace=False)\n",
              "  )\n",
              "  (conv_block3): Sequential(\n",
              "    (0): Conv2d(64, 128, kernel_size=(3, 3), stride=(1, 1), padding=(1, 1))\n",
              "    (1): BatchNorm2d(128, eps=1e-05, momentum=0.1, affine=True, track_running_stats=True)\n",
              "    (2): ReLU()\n",
              "    (3): MaxPool2d(kernel_size=2, stride=2, padding=0, dilation=1, ceil_mode=False)\n",
              "    (4): Dropout(p=0.25, inplace=False)\n",
              "  )\n",
              "  (fc): Sequential(\n",
              "    (0): Linear(in_features=1152, out_features=256, bias=True)\n",
              "    (1): ReLU()\n",
              "    (2): Dropout(p=0.5, inplace=False)\n",
              "    (3): Linear(in_features=256, out_features=128, bias=True)\n",
              "    (4): ReLU()\n",
              "    (5): Dropout(p=0.5, inplace=False)\n",
              "    (6): Linear(in_features=128, out_features=10, bias=True)\n",
              "  )\n",
              ")"
            ]
          },
          "metadata": {},
          "execution_count": 51
        }
      ]
    },
    {
      "cell_type": "code",
      "source": [
        "dummy_x = torch.rand([1, 1, 28, 28]).to(device)\n",
        "model_0(dummy_x)\n"
      ],
      "metadata": {
        "colab": {
          "base_uri": "https://localhost:8080/"
        },
        "id": "6-EEobDgs6in",
        "outputId": "d2317b78-b852-4706-8536-cf5ad8ace2f8"
      },
      "execution_count": 57,
      "outputs": [
        {
          "output_type": "execute_result",
          "data": {
            "text/plain": [
              "tensor([[ 0.0156, -0.1717, -0.1181,  0.1326,  0.1069, -0.0156, -0.0713,  0.2862,\n",
              "          0.0692,  0.0099]], device='cuda:0', grad_fn=<AddmmBackward0>)"
            ]
          },
          "metadata": {},
          "execution_count": 57
        }
      ]
    },
    {
      "cell_type": "code",
      "source": [
        "model_0.state_dict()"
      ],
      "metadata": {
        "colab": {
          "base_uri": "https://localhost:8080/"
        },
        "id": "_2LcWfxqtGCb",
        "outputId": "bd7662d2-74e1-41a5-dcdb-5f691f791a5c"
      },
      "execution_count": 58,
      "outputs": [
        {
          "output_type": "execute_result",
          "data": {
            "text/plain": [
              "OrderedDict([('conv_block1.0.weight',\n",
              "              tensor([[[[ 0.2548,  0.2767, -0.0781],\n",
              "                        [ 0.3062, -0.0730,  0.0673],\n",
              "                        [-0.1623,  0.1958,  0.2938]]],\n",
              "              \n",
              "              \n",
              "                      [[[-0.2445,  0.2897,  0.0624],\n",
              "                        [ 0.2463,  0.0451,  0.1607],\n",
              "                        [-0.0471,  0.2570,  0.0493]]],\n",
              "              \n",
              "              \n",
              "                      [[[-0.1556,  0.0850, -0.1536],\n",
              "                        [-0.0391, -0.1354,  0.2211],\n",
              "                        [-0.2631, -0.1537, -0.0941]]],\n",
              "              \n",
              "              \n",
              "                      [[[-0.2004,  0.0315, -0.3292],\n",
              "                        [ 0.3010, -0.2832,  0.2573],\n",
              "                        [ 0.0555, -0.1082,  0.2060]]],\n",
              "              \n",
              "              \n",
              "                      [[[ 0.0520,  0.2693,  0.0364],\n",
              "                        [-0.1051,  0.0896, -0.0904],\n",
              "                        [ 0.1403,  0.2976,  0.1927]]],\n",
              "              \n",
              "              \n",
              "                      [[[-0.1457,  0.1924,  0.0596],\n",
              "                        [ 0.1693, -0.2032, -0.3300],\n",
              "                        [-0.1288, -0.2557,  0.2735]]],\n",
              "              \n",
              "              \n",
              "                      [[[ 0.0960,  0.1381,  0.1054],\n",
              "                        [-0.0058,  0.2609, -0.2368],\n",
              "                        [ 0.0210, -0.2275,  0.1028]]],\n",
              "              \n",
              "              \n",
              "                      [[[-0.1148,  0.1021, -0.0694],\n",
              "                        [ 0.2765, -0.1976, -0.1988],\n",
              "                        [-0.1988,  0.2998,  0.1111]]],\n",
              "              \n",
              "              \n",
              "                      [[[ 0.3208, -0.2751, -0.3306],\n",
              "                        [-0.2608, -0.2242,  0.1350],\n",
              "                        [ 0.1194,  0.2770, -0.1721]]],\n",
              "              \n",
              "              \n",
              "                      [[[-0.2272,  0.1769, -0.1347],\n",
              "                        [ 0.2023, -0.0791,  0.1907],\n",
              "                        [-0.2590, -0.1682,  0.1016]]],\n",
              "              \n",
              "              \n",
              "                      [[[ 0.0705, -0.0850,  0.1987],\n",
              "                        [ 0.2266, -0.2417, -0.1780],\n",
              "                        [ 0.3052, -0.1125, -0.1182]]],\n",
              "              \n",
              "              \n",
              "                      [[[-0.3225, -0.1909,  0.0833],\n",
              "                        [-0.0440, -0.2420,  0.0078],\n",
              "                        [-0.2277, -0.2828, -0.1836]]],\n",
              "              \n",
              "              \n",
              "                      [[[-0.2917, -0.2122,  0.3332],\n",
              "                        [ 0.0630,  0.1027, -0.3109],\n",
              "                        [-0.2189, -0.1110,  0.0521]]],\n",
              "              \n",
              "              \n",
              "                      [[[-0.2933, -0.1436, -0.1996],\n",
              "                        [ 0.0009, -0.1240, -0.0231],\n",
              "                        [-0.2259, -0.2288, -0.1945]]],\n",
              "              \n",
              "              \n",
              "                      [[[-0.1141, -0.2631,  0.2795],\n",
              "                        [-0.0662,  0.2868,  0.1039],\n",
              "                        [-0.2823,  0.2307, -0.0917]]],\n",
              "              \n",
              "              \n",
              "                      [[[-0.1278, -0.2767, -0.3314],\n",
              "                        [ 0.0954, -0.0728,  0.1298],\n",
              "                        [-0.2736,  0.2475, -0.2447]]],\n",
              "              \n",
              "              \n",
              "                      [[[-0.0576,  0.0696,  0.1721],\n",
              "                        [ 0.2691,  0.3037, -0.2643],\n",
              "                        [ 0.0839, -0.1434, -0.0365]]],\n",
              "              \n",
              "              \n",
              "                      [[[-0.2495,  0.3036, -0.2447],\n",
              "                        [ 0.1782,  0.1171,  0.1083],\n",
              "                        [-0.1802,  0.3030,  0.0733]]],\n",
              "              \n",
              "              \n",
              "                      [[[ 0.0429, -0.2938,  0.1399],\n",
              "                        [-0.0500, -0.1527,  0.2863],\n",
              "                        [ 0.0743, -0.1844, -0.1687]]],\n",
              "              \n",
              "              \n",
              "                      [[[-0.0159,  0.1861, -0.0852],\n",
              "                        [-0.1902, -0.1141, -0.2490],\n",
              "                        [ 0.1189,  0.2580, -0.3138]]],\n",
              "              \n",
              "              \n",
              "                      [[[ 0.0774,  0.1722,  0.0604],\n",
              "                        [-0.1187,  0.1740,  0.1752],\n",
              "                        [ 0.1246, -0.0586, -0.0883]]],\n",
              "              \n",
              "              \n",
              "                      [[[ 0.0357, -0.0589, -0.0993],\n",
              "                        [ 0.2131,  0.2865, -0.0330],\n",
              "                        [-0.0746,  0.0049, -0.0199]]],\n",
              "              \n",
              "              \n",
              "                      [[[ 0.0801,  0.0934, -0.3028],\n",
              "                        [-0.1230,  0.2807,  0.1299],\n",
              "                        [-0.0166, -0.2010, -0.2039]]],\n",
              "              \n",
              "              \n",
              "                      [[[-0.2986, -0.1087,  0.1126],\n",
              "                        [ 0.2125,  0.1539, -0.2946],\n",
              "                        [-0.2005, -0.0526,  0.3224]]],\n",
              "              \n",
              "              \n",
              "                      [[[ 0.0482, -0.0863,  0.1379],\n",
              "                        [-0.1270, -0.2158,  0.2433],\n",
              "                        [-0.1516, -0.0668, -0.3316]]],\n",
              "              \n",
              "              \n",
              "                      [[[ 0.2231,  0.2525,  0.1215],\n",
              "                        [-0.2324, -0.3290, -0.2707],\n",
              "                        [ 0.2486,  0.1600,  0.2805]]],\n",
              "              \n",
              "              \n",
              "                      [[[ 0.1746,  0.0844, -0.0033],\n",
              "                        [-0.2535, -0.2856, -0.3118],\n",
              "                        [ 0.1365, -0.1637, -0.0671]]],\n",
              "              \n",
              "              \n",
              "                      [[[-0.1918, -0.0607, -0.2346],\n",
              "                        [-0.2178,  0.1106, -0.0991],\n",
              "                        [ 0.2058, -0.1069, -0.2445]]],\n",
              "              \n",
              "              \n",
              "                      [[[-0.0588, -0.1616, -0.1020],\n",
              "                        [-0.3173,  0.1865, -0.2321],\n",
              "                        [ 0.1675,  0.1513,  0.2381]]],\n",
              "              \n",
              "              \n",
              "                      [[[-0.2557,  0.2397, -0.1576],\n",
              "                        [ 0.1237,  0.3130, -0.0470],\n",
              "                        [-0.0026, -0.0767, -0.2783]]],\n",
              "              \n",
              "              \n",
              "                      [[[ 0.1600, -0.3309,  0.2069],\n",
              "                        [ 0.2494,  0.3152, -0.0786],\n",
              "                        [-0.2739,  0.0749,  0.1841]]],\n",
              "              \n",
              "              \n",
              "                      [[[-0.3318, -0.0757, -0.1998],\n",
              "                        [-0.0292, -0.1641, -0.1363],\n",
              "                        [-0.1058, -0.3168,  0.2735]]]], device='cuda:0')),\n",
              "             ('conv_block1.0.bias',\n",
              "              tensor([ 0.2794, -0.0523, -0.0380, -0.1360, -0.3010, -0.3244,  0.1239, -0.1830,\n",
              "                      -0.2143, -0.0260, -0.1110, -0.1078,  0.0107, -0.0707, -0.1148, -0.1596,\n",
              "                      -0.2713,  0.2795, -0.1334,  0.0883, -0.1157,  0.0271,  0.3108,  0.1536,\n",
              "                      -0.2889,  0.1323,  0.3164,  0.0877,  0.2235,  0.3286, -0.0511,  0.0692],\n",
              "                     device='cuda:0')),\n",
              "             ('conv_block1.1.weight',\n",
              "              tensor([1., 1., 1., 1., 1., 1., 1., 1., 1., 1., 1., 1., 1., 1., 1., 1., 1., 1.,\n",
              "                      1., 1., 1., 1., 1., 1., 1., 1., 1., 1., 1., 1., 1., 1.],\n",
              "                     device='cuda:0')),\n",
              "             ('conv_block1.1.bias',\n",
              "              tensor([0., 0., 0., 0., 0., 0., 0., 0., 0., 0., 0., 0., 0., 0., 0., 0., 0., 0., 0., 0., 0., 0., 0., 0.,\n",
              "                      0., 0., 0., 0., 0., 0., 0., 0.], device='cuda:0')),\n",
              "             ('conv_block1.1.running_mean',\n",
              "              tensor([ 0.4169,  0.0518, -0.1255, -0.1449, -0.1889, -0.3712,  0.1562, -0.1817,\n",
              "                      -0.2665, -0.0510, -0.1027, -0.2861, -0.0648, -0.2527, -0.1042, -0.2682,\n",
              "                      -0.2209,  0.3315, -0.1723,  0.0368, -0.0498,  0.0594,  0.2773,  0.1341,\n",
              "                      -0.3587,  0.1900,  0.2288, -0.0190,  0.2072,  0.3106,  0.0134, -0.0688],\n",
              "                     device='cuda:0')),\n",
              "             ('conv_block1.1.running_var',\n",
              "              tensor([0.0726, 0.0516, 0.0324, 0.0096, 0.0512, 0.0158, 0.0098, 0.0036, 0.0248,\n",
              "                      0.0068, 0.0128, 0.1262, 0.0262, 0.1219, 0.0150, 0.0466, 0.0215, 0.0209,\n",
              "                      0.0111, 0.0179, 0.0212, 0.0092, 0.0084, 0.0077, 0.0268, 0.0156, 0.0460,\n",
              "                      0.0438, 0.0160, 0.0096, 0.0201, 0.0841], device='cuda:0')),\n",
              "             ('conv_block1.1.num_batches_tracked',\n",
              "              tensor(1875, device='cuda:0')),\n",
              "             ('conv_block1.3.weight',\n",
              "              tensor([[[[-0.0410, -0.0121,  0.0436],\n",
              "                        [ 0.0302, -0.0373, -0.0473],\n",
              "                        [-0.0403, -0.0582, -0.0455]],\n",
              "              \n",
              "                       [[-0.0146,  0.0398,  0.0099],\n",
              "                        [-0.0448, -0.0473,  0.0293],\n",
              "                        [-0.0438, -0.0073,  0.0283]],\n",
              "              \n",
              "                       [[-0.0273, -0.0064, -0.0051],\n",
              "                        [-0.0139, -0.0299, -0.0525],\n",
              "                        [-0.0476, -0.0316,  0.0569]],\n",
              "              \n",
              "                       ...,\n",
              "              \n",
              "                       [[-0.0513,  0.0072,  0.0521],\n",
              "                        [ 0.0101,  0.0160, -0.0343],\n",
              "                        [-0.0008,  0.0032,  0.0145]],\n",
              "              \n",
              "                       [[ 0.0229,  0.0512, -0.0450],\n",
              "                        [ 0.0018, -0.0294, -0.0466],\n",
              "                        [-0.0047, -0.0519,  0.0411]],\n",
              "              \n",
              "                       [[ 0.0068, -0.0318,  0.0308],\n",
              "                        [-0.0558, -0.0228, -0.0115],\n",
              "                        [-0.0501, -0.0375, -0.0096]]],\n",
              "              \n",
              "              \n",
              "                      [[[ 0.0447,  0.0569,  0.0375],\n",
              "                        [-0.0352, -0.0386,  0.0514],\n",
              "                        [ 0.0208,  0.0016,  0.0080]],\n",
              "              \n",
              "                       [[-0.0474, -0.0197,  0.0567],\n",
              "                        [-0.0145, -0.0030, -0.0489],\n",
              "                        [-0.0330, -0.0012, -0.0366]],\n",
              "              \n",
              "                       [[-0.0073,  0.0240, -0.0576],\n",
              "                        [ 0.0175, -0.0390, -0.0288],\n",
              "                        [ 0.0226,  0.0469, -0.0161]],\n",
              "              \n",
              "                       ...,\n",
              "              \n",
              "                       [[-0.0496, -0.0061,  0.0565],\n",
              "                        [ 0.0150,  0.0050, -0.0122],\n",
              "                        [-0.0206,  0.0351,  0.0036]],\n",
              "              \n",
              "                       [[ 0.0383, -0.0104,  0.0257],\n",
              "                        [ 0.0243,  0.0094,  0.0370],\n",
              "                        [ 0.0369,  0.0546,  0.0453]],\n",
              "              \n",
              "                       [[-0.0151, -0.0499,  0.0108],\n",
              "                        [-0.0005, -0.0154, -0.0099],\n",
              "                        [ 0.0028,  0.0430,  0.0184]]],\n",
              "              \n",
              "              \n",
              "                      [[[-0.0209, -0.0242, -0.0146],\n",
              "                        [-0.0228,  0.0530,  0.0312],\n",
              "                        [ 0.0532,  0.0002,  0.0119]],\n",
              "              \n",
              "                       [[ 0.0204, -0.0558,  0.0053],\n",
              "                        [-0.0039, -0.0330, -0.0457],\n",
              "                        [ 0.0522,  0.0479,  0.0273]],\n",
              "              \n",
              "                       [[ 0.0562, -0.0239, -0.0102],\n",
              "                        [ 0.0223, -0.0097, -0.0116],\n",
              "                        [-0.0487,  0.0158, -0.0356]],\n",
              "              \n",
              "                       ...,\n",
              "              \n",
              "                       [[ 0.0404, -0.0459,  0.0538],\n",
              "                        [ 0.0046,  0.0283,  0.0458],\n",
              "                        [ 0.0502, -0.0459,  0.0516]],\n",
              "              \n",
              "                       [[-0.0400,  0.0044, -0.0412],\n",
              "                        [-0.0129, -0.0027, -0.0070],\n",
              "                        [-0.0093,  0.0046,  0.0581]],\n",
              "              \n",
              "                       [[ 0.0342,  0.0330,  0.0236],\n",
              "                        [ 0.0456, -0.0027,  0.0047],\n",
              "                        [ 0.0121, -0.0514, -0.0475]]],\n",
              "              \n",
              "              \n",
              "                      ...,\n",
              "              \n",
              "              \n",
              "                      [[[-0.0045, -0.0051, -0.0571],\n",
              "                        [ 0.0105, -0.0468,  0.0053],\n",
              "                        [-0.0140,  0.0375, -0.0236]],\n",
              "              \n",
              "                       [[ 0.0419, -0.0140, -0.0114],\n",
              "                        [-0.0536,  0.0512,  0.0051],\n",
              "                        [-0.0531,  0.0033,  0.0241]],\n",
              "              \n",
              "                       [[-0.0125,  0.0481,  0.0288],\n",
              "                        [-0.0076,  0.0589,  0.0416],\n",
              "                        [-0.0072, -0.0051,  0.0181]],\n",
              "              \n",
              "                       ...,\n",
              "              \n",
              "                       [[ 0.0396,  0.0161,  0.0500],\n",
              "                        [-0.0573, -0.0144, -0.0380],\n",
              "                        [-0.0451, -0.0350,  0.0186]],\n",
              "              \n",
              "                       [[ 0.0392,  0.0266, -0.0202],\n",
              "                        [ 0.0260,  0.0580,  0.0029],\n",
              "                        [-0.0212, -0.0465,  0.0417]],\n",
              "              \n",
              "                       [[-0.0135, -0.0462,  0.0341],\n",
              "                        [ 0.0117, -0.0238, -0.0580],\n",
              "                        [ 0.0074, -0.0175, -0.0102]]],\n",
              "              \n",
              "              \n",
              "                      [[[-0.0197,  0.0485,  0.0313],\n",
              "                        [ 0.0467,  0.0222,  0.0168],\n",
              "                        [ 0.0582, -0.0002,  0.0339]],\n",
              "              \n",
              "                       [[ 0.0240, -0.0564,  0.0400],\n",
              "                        [-0.0058, -0.0398,  0.0397],\n",
              "                        [-0.0477,  0.0276, -0.0485]],\n",
              "              \n",
              "                       [[-0.0169, -0.0553,  0.0421],\n",
              "                        [ 0.0146,  0.0481,  0.0180],\n",
              "                        [-0.0292,  0.0089,  0.0399]],\n",
              "              \n",
              "                       ...,\n",
              "              \n",
              "                       [[ 0.0260,  0.0569, -0.0316],\n",
              "                        [-0.0047, -0.0049,  0.0480],\n",
              "                        [ 0.0556,  0.0149, -0.0476]],\n",
              "              \n",
              "                       [[-0.0427,  0.0108, -0.0519],\n",
              "                        [-0.0206, -0.0442,  0.0302],\n",
              "                        [-0.0081, -0.0461,  0.0385]],\n",
              "              \n",
              "                       [[-0.0522, -0.0058,  0.0567],\n",
              "                        [ 0.0295, -0.0511,  0.0064],\n",
              "                        [-0.0088,  0.0262,  0.0544]]],\n",
              "              \n",
              "              \n",
              "                      [[[ 0.0502, -0.0056,  0.0271],\n",
              "                        [-0.0579,  0.0464,  0.0313],\n",
              "                        [-0.0414, -0.0170, -0.0229]],\n",
              "              \n",
              "                       [[-0.0345,  0.0243, -0.0172],\n",
              "                        [ 0.0245, -0.0179,  0.0458],\n",
              "                        [-0.0232, -0.0102, -0.0183]],\n",
              "              \n",
              "                       [[ 0.0027, -0.0217, -0.0414],\n",
              "                        [-0.0560,  0.0367,  0.0082],\n",
              "                        [-0.0379,  0.0305,  0.0062]],\n",
              "              \n",
              "                       ...,\n",
              "              \n",
              "                       [[ 0.0513,  0.0242,  0.0503],\n",
              "                        [ 0.0044, -0.0447, -0.0377],\n",
              "                        [ 0.0532,  0.0528,  0.0178]],\n",
              "              \n",
              "                       [[-0.0421,  0.0431,  0.0244],\n",
              "                        [-0.0465,  0.0171,  0.0568],\n",
              "                        [-0.0389,  0.0045,  0.0168]],\n",
              "              \n",
              "                       [[-0.0212,  0.0388,  0.0524],\n",
              "                        [ 0.0574, -0.0527,  0.0033],\n",
              "                        [ 0.0481,  0.0502, -0.0152]]]], device='cuda:0')),\n",
              "             ('conv_block1.3.bias',\n",
              "              tensor([ 0.0390,  0.0440, -0.0037,  0.0404,  0.0339, -0.0088, -0.0246, -0.0313,\n",
              "                      -0.0475, -0.0352,  0.0154,  0.0210, -0.0169, -0.0049,  0.0408,  0.0087,\n",
              "                      -0.0409,  0.0499,  0.0356,  0.0068,  0.0281, -0.0498,  0.0346,  0.0143,\n",
              "                      -0.0052, -0.0189,  0.0476,  0.0127, -0.0329,  0.0265,  0.0104, -0.0207],\n",
              "                     device='cuda:0')),\n",
              "             ('conv_block1.4.weight',\n",
              "              tensor([1., 1., 1., 1., 1., 1., 1., 1., 1., 1., 1., 1., 1., 1., 1., 1., 1., 1.,\n",
              "                      1., 1., 1., 1., 1., 1., 1., 1., 1., 1., 1., 1., 1., 1.],\n",
              "                     device='cuda:0')),\n",
              "             ('conv_block1.4.bias',\n",
              "              tensor([0., 0., 0., 0., 0., 0., 0., 0., 0., 0., 0., 0., 0., 0., 0., 0., 0., 0., 0., 0., 0., 0., 0., 0.,\n",
              "                      0., 0., 0., 0., 0., 0., 0., 0.], device='cuda:0')),\n",
              "             ('conv_block1.4.running_mean',\n",
              "              tensor([-0.2397,  0.1271, -0.1086,  0.0675,  0.3194, -0.2923, -0.1703,  0.0731,\n",
              "                      -0.0499,  0.0332, -0.0386, -0.1476,  0.2056, -0.0059, -0.3689,  0.2566,\n",
              "                       0.4048, -0.0256,  0.2439, -0.0561, -0.2959,  0.2123,  0.2867, -0.2701,\n",
              "                       0.2539, -0.3271, -0.1979,  0.2342,  0.0374, -0.0813,  0.3437,  0.0254],\n",
              "                     device='cuda:0')),\n",
              "             ('conv_block1.4.running_var',\n",
              "              tensor([0.0672, 0.0994, 0.0855, 0.0661, 0.2263, 0.3384, 0.0429, 0.0321, 0.1241,\n",
              "                      0.0836, 0.0455, 0.0931, 0.0699, 0.0521, 0.0946, 0.1686, 0.0885, 0.0983,\n",
              "                      0.1931, 0.0548, 0.1485, 0.0520, 0.1459, 0.3279, 0.1213, 0.2520, 0.1193,\n",
              "                      0.0945, 0.0457, 0.1828, 0.1690, 0.0478], device='cuda:0')),\n",
              "             ('conv_block1.4.num_batches_tracked',\n",
              "              tensor(1875, device='cuda:0')),\n",
              "             ('conv_block2.0.weight',\n",
              "              tensor([[[[ 0.0416,  0.0587, -0.0026],\n",
              "                        [-0.0243, -0.0316, -0.0308],\n",
              "                        [ 0.0302,  0.0370, -0.0357]],\n",
              "              \n",
              "                       [[ 0.0326,  0.0023, -0.0021],\n",
              "                        [-0.0187, -0.0543, -0.0505],\n",
              "                        [ 0.0432, -0.0097, -0.0026]],\n",
              "              \n",
              "                       [[-0.0355, -0.0108, -0.0230],\n",
              "                        [ 0.0053, -0.0562,  0.0057],\n",
              "                        [-0.0522, -0.0419, -0.0013]],\n",
              "              \n",
              "                       ...,\n",
              "              \n",
              "                       [[-0.0384,  0.0143, -0.0071],\n",
              "                        [ 0.0503,  0.0028, -0.0291],\n",
              "                        [ 0.0472,  0.0018, -0.0099]],\n",
              "              \n",
              "                       [[ 0.0281,  0.0568,  0.0269],\n",
              "                        [ 0.0017,  0.0483, -0.0258],\n",
              "                        [ 0.0521, -0.0336,  0.0011]],\n",
              "              \n",
              "                       [[ 0.0536,  0.0235, -0.0123],\n",
              "                        [ 0.0363,  0.0348, -0.0531],\n",
              "                        [-0.0066, -0.0464, -0.0127]]],\n",
              "              \n",
              "              \n",
              "                      [[[-0.0071, -0.0236, -0.0215],\n",
              "                        [ 0.0319, -0.0017, -0.0586],\n",
              "                        [ 0.0101, -0.0579, -0.0404]],\n",
              "              \n",
              "                       [[ 0.0360,  0.0450, -0.0209],\n",
              "                        [-0.0358,  0.0267, -0.0563],\n",
              "                        [ 0.0364,  0.0406,  0.0249]],\n",
              "              \n",
              "                       [[ 0.0180,  0.0122, -0.0452],\n",
              "                        [-0.0236,  0.0380,  0.0496],\n",
              "                        [ 0.0016,  0.0151, -0.0559]],\n",
              "              \n",
              "                       ...,\n",
              "              \n",
              "                       [[-0.0551,  0.0392,  0.0410],\n",
              "                        [ 0.0370,  0.0249, -0.0357],\n",
              "                        [-0.0253,  0.0126,  0.0232]],\n",
              "              \n",
              "                       [[ 0.0517,  0.0026,  0.0243],\n",
              "                        [-0.0445, -0.0120,  0.0350],\n",
              "                        [ 0.0048,  0.0466, -0.0473]],\n",
              "              \n",
              "                       [[-0.0393,  0.0185, -0.0025],\n",
              "                        [-0.0503,  0.0251,  0.0024],\n",
              "                        [ 0.0142,  0.0129, -0.0406]]],\n",
              "              \n",
              "              \n",
              "                      [[[-0.0395, -0.0471,  0.0428],\n",
              "                        [-0.0323,  0.0530, -0.0188],\n",
              "                        [ 0.0130,  0.0563, -0.0316]],\n",
              "              \n",
              "                       [[-0.0559,  0.0085, -0.0425],\n",
              "                        [ 0.0325,  0.0234,  0.0427],\n",
              "                        [-0.0061, -0.0385, -0.0543]],\n",
              "              \n",
              "                       [[-0.0381,  0.0525, -0.0126],\n",
              "                        [-0.0011, -0.0125, -0.0301],\n",
              "                        [ 0.0482, -0.0153, -0.0286]],\n",
              "              \n",
              "                       ...,\n",
              "              \n",
              "                       [[-0.0554,  0.0265,  0.0278],\n",
              "                        [-0.0573,  0.0257,  0.0075],\n",
              "                        [-0.0368, -0.0270,  0.0579]],\n",
              "              \n",
              "                       [[-0.0307,  0.0516,  0.0119],\n",
              "                        [ 0.0270, -0.0297,  0.0192],\n",
              "                        [ 0.0127,  0.0470, -0.0583]],\n",
              "              \n",
              "                       [[-0.0214,  0.0015, -0.0423],\n",
              "                        [ 0.0100,  0.0380,  0.0355],\n",
              "                        [-0.0304,  0.0238, -0.0429]]],\n",
              "              \n",
              "              \n",
              "                      ...,\n",
              "              \n",
              "              \n",
              "                      [[[-0.0550,  0.0110,  0.0254],\n",
              "                        [-0.0173, -0.0378,  0.0468],\n",
              "                        [ 0.0146,  0.0283,  0.0568]],\n",
              "              \n",
              "                       [[-0.0459,  0.0410, -0.0222],\n",
              "                        [ 0.0220,  0.0383,  0.0429],\n",
              "                        [ 0.0195,  0.0071,  0.0016]],\n",
              "              \n",
              "                       [[-0.0155,  0.0311,  0.0563],\n",
              "                        [ 0.0008, -0.0507, -0.0127],\n",
              "                        [-0.0166,  0.0301, -0.0464]],\n",
              "              \n",
              "                       ...,\n",
              "              \n",
              "                       [[ 0.0147, -0.0520,  0.0004],\n",
              "                        [-0.0381,  0.0217, -0.0298],\n",
              "                        [-0.0020,  0.0430, -0.0434]],\n",
              "              \n",
              "                       [[ 0.0410,  0.0367,  0.0036],\n",
              "                        [ 0.0488, -0.0394, -0.0460],\n",
              "                        [-0.0213,  0.0495, -0.0341]],\n",
              "              \n",
              "                       [[ 0.0214, -0.0413,  0.0040],\n",
              "                        [ 0.0501,  0.0420,  0.0266],\n",
              "                        [-0.0249,  0.0287,  0.0501]]],\n",
              "              \n",
              "              \n",
              "                      [[[-0.0536,  0.0150, -0.0300],\n",
              "                        [ 0.0286, -0.0036, -0.0129],\n",
              "                        [-0.0413, -0.0406,  0.0075]],\n",
              "              \n",
              "                       [[ 0.0179, -0.0016,  0.0474],\n",
              "                        [-0.0042, -0.0412,  0.0207],\n",
              "                        [-0.0394,  0.0497,  0.0085]],\n",
              "              \n",
              "                       [[ 0.0019,  0.0208,  0.0290],\n",
              "                        [-0.0438, -0.0235, -0.0196],\n",
              "                        [-0.0012,  0.0273, -0.0279]],\n",
              "              \n",
              "                       ...,\n",
              "              \n",
              "                       [[ 0.0358, -0.0285,  0.0040],\n",
              "                        [-0.0439, -0.0377,  0.0047],\n",
              "                        [ 0.0282,  0.0519, -0.0585]],\n",
              "              \n",
              "                       [[ 0.0351,  0.0209,  0.0557],\n",
              "                        [-0.0013, -0.0033, -0.0579],\n",
              "                        [ 0.0332, -0.0079, -0.0172]],\n",
              "              \n",
              "                       [[-0.0129, -0.0398, -0.0177],\n",
              "                        [ 0.0165,  0.0372, -0.0416],\n",
              "                        [-0.0548,  0.0096,  0.0488]]],\n",
              "              \n",
              "              \n",
              "                      [[[ 0.0002, -0.0096, -0.0322],\n",
              "                        [-0.0076, -0.0333,  0.0314],\n",
              "                        [ 0.0019, -0.0048, -0.0261]],\n",
              "              \n",
              "                       [[ 0.0319, -0.0516,  0.0491],\n",
              "                        [-0.0253, -0.0327,  0.0011],\n",
              "                        [ 0.0581, -0.0246,  0.0368]],\n",
              "              \n",
              "                       [[-0.0060, -0.0462, -0.0024],\n",
              "                        [ 0.0181,  0.0379, -0.0119],\n",
              "                        [-0.0331, -0.0174,  0.0326]],\n",
              "              \n",
              "                       ...,\n",
              "              \n",
              "                       [[-0.0058,  0.0194,  0.0516],\n",
              "                        [ 0.0048,  0.0460, -0.0213],\n",
              "                        [-0.0313,  0.0397,  0.0483]],\n",
              "              \n",
              "                       [[ 0.0441,  0.0076, -0.0032],\n",
              "                        [-0.0002, -0.0026,  0.0088],\n",
              "                        [ 0.0208,  0.0363,  0.0154]],\n",
              "              \n",
              "                       [[ 0.0547, -0.0098,  0.0135],\n",
              "                        [-0.0033, -0.0419, -0.0469],\n",
              "                        [-0.0032, -0.0472, -0.0494]]]], device='cuda:0')),\n",
              "             ('conv_block2.0.bias',\n",
              "              tensor([ 2.7439e-02,  2.6059e-02,  4.7903e-02,  4.3318e-02,  4.7762e-02,\n",
              "                      -3.4623e-02,  1.8482e-02,  1.5072e-02, -1.8113e-02, -5.3588e-02,\n",
              "                       7.6998e-03, -1.7439e-02, -9.2018e-03,  1.0776e-02,  2.1327e-02,\n",
              "                       4.3692e-05, -3.7908e-02,  3.3791e-02, -2.4475e-02, -4.5380e-02,\n",
              "                       3.0359e-02, -3.5979e-04, -1.1213e-02,  1.7652e-02, -4.5837e-02,\n",
              "                       1.8938e-02,  3.1438e-02, -3.1396e-02,  5.4347e-02,  1.5134e-02,\n",
              "                      -7.2964e-03,  4.3955e-02,  2.7358e-02,  2.4565e-03,  5.2082e-02,\n",
              "                       3.2143e-02, -4.2484e-02, -2.3791e-02, -3.4054e-02,  4.0865e-02,\n",
              "                       3.2544e-02, -3.6242e-02,  1.6048e-02, -2.9390e-02,  3.2974e-02,\n",
              "                       8.0685e-03, -1.1816e-03, -2.7120e-02,  4.6150e-02, -7.0787e-03,\n",
              "                      -4.5672e-02, -7.5106e-03, -2.4440e-02,  5.6677e-02, -5.8252e-02,\n",
              "                       1.7713e-02, -2.3607e-03, -5.3358e-02,  1.5620e-03, -2.3689e-02,\n",
              "                      -2.8003e-02, -4.6709e-02,  1.0350e-02,  4.0604e-02], device='cuda:0')),\n",
              "             ('conv_block2.1.weight',\n",
              "              tensor([1., 1., 1., 1., 1., 1., 1., 1., 1., 1., 1., 1., 1., 1., 1., 1., 1., 1.,\n",
              "                      1., 1., 1., 1., 1., 1., 1., 1., 1., 1., 1., 1., 1., 1., 1., 1., 1., 1.,\n",
              "                      1., 1., 1., 1., 1., 1., 1., 1., 1., 1., 1., 1., 1., 1., 1., 1., 1., 1.,\n",
              "                      1., 1., 1., 1., 1., 1., 1., 1., 1., 1.], device='cuda:0')),\n",
              "             ('conv_block2.1.bias',\n",
              "              tensor([0., 0., 0., 0., 0., 0., 0., 0., 0., 0., 0., 0., 0., 0., 0., 0., 0., 0., 0., 0., 0., 0., 0., 0.,\n",
              "                      0., 0., 0., 0., 0., 0., 0., 0., 0., 0., 0., 0., 0., 0., 0., 0., 0., 0., 0., 0., 0., 0., 0., 0.,\n",
              "                      0., 0., 0., 0., 0., 0., 0., 0., 0., 0., 0., 0., 0., 0., 0., 0.],\n",
              "                     device='cuda:0')),\n",
              "             ('conv_block2.1.running_mean',\n",
              "              tensor([ 0.1301, -0.2404, -0.5063, -0.0960, -0.0427, -0.1196, -0.0167, -0.2219,\n",
              "                      -0.0547, -0.2299, -0.2264,  0.0953, -0.1330, -0.3564,  0.2642,  0.4902,\n",
              "                       0.1637, -0.5132, -0.1772, -0.2922,  0.2219, -0.4737,  0.6935, -0.1152,\n",
              "                      -0.2481,  0.0407,  0.5850, -0.3621,  0.0579,  0.0725, -0.6067, -0.3638,\n",
              "                      -0.2939, -0.1780, -0.3142, -0.1321, -0.1715, -0.1925,  0.1999,  0.2463,\n",
              "                      -0.0996,  0.1750,  0.5816,  0.2965,  0.5806, -0.1045,  0.0729, -0.3719,\n",
              "                      -0.1172, -0.3197,  0.1688,  0.4325,  0.3783,  0.2157,  0.0151,  0.3406,\n",
              "                       0.2865, -0.1458, -0.2035,  0.0859,  0.3759,  0.6337, -0.4261,  0.4029],\n",
              "                     device='cuda:0')),\n",
              "             ('conv_block2.1.running_var',\n",
              "              tensor([0.2836, 0.3391, 0.4031, 0.2449, 0.2383, 0.3659, 0.3698, 0.5022, 0.3449,\n",
              "                      0.3366, 0.3321, 0.2371, 0.2696, 0.3494, 0.6322, 0.4964, 0.3316, 0.6704,\n",
              "                      0.3941, 0.5501, 0.3901, 0.4649, 0.7029, 0.4292, 0.2683, 0.2477, 0.5596,\n",
              "                      0.3282, 0.2199, 0.2476, 0.7513, 0.7277, 0.4058, 0.3586, 0.3159, 0.3347,\n",
              "                      0.2864, 0.3806, 0.3039, 0.2512, 0.2367, 0.3732, 0.5127, 0.4364, 0.5599,\n",
              "                      0.2312, 0.2592, 0.2876, 0.1996, 0.5094, 0.2973, 0.4571, 0.5196, 0.2224,\n",
              "                      0.2283, 0.5202, 0.2401, 0.3046, 0.3889, 0.3614, 0.3310, 0.6820, 0.3771,\n",
              "                      0.2775], device='cuda:0')),\n",
              "             ('conv_block2.1.num_batches_tracked',\n",
              "              tensor(1875, device='cuda:0')),\n",
              "             ('conv_block2.3.weight',\n",
              "              tensor([[[[-0.0105,  0.0282,  0.0143],\n",
              "                        [-0.0276, -0.0384, -0.0123],\n",
              "                        [ 0.0168, -0.0377,  0.0367]],\n",
              "              \n",
              "                       [[-0.0403,  0.0172,  0.0205],\n",
              "                        [-0.0302,  0.0302,  0.0023],\n",
              "                        [-0.0413,  0.0126,  0.0099]],\n",
              "              \n",
              "                       [[-0.0318, -0.0178, -0.0021],\n",
              "                        [-0.0163,  0.0289, -0.0080],\n",
              "                        [ 0.0052,  0.0093, -0.0008]],\n",
              "              \n",
              "                       ...,\n",
              "              \n",
              "                       [[-0.0330, -0.0069, -0.0416],\n",
              "                        [-0.0135,  0.0137, -0.0327],\n",
              "                        [ 0.0157,  0.0415,  0.0106]],\n",
              "              \n",
              "                       [[-0.0285, -0.0144, -0.0108],\n",
              "                        [-0.0037, -0.0303, -0.0109],\n",
              "                        [ 0.0124, -0.0383, -0.0306]],\n",
              "              \n",
              "                       [[ 0.0197, -0.0091, -0.0219],\n",
              "                        [ 0.0003,  0.0224,  0.0211],\n",
              "                        [-0.0067, -0.0053,  0.0199]]],\n",
              "              \n",
              "              \n",
              "                      [[[ 0.0396, -0.0206,  0.0138],\n",
              "                        [-0.0080,  0.0295,  0.0218],\n",
              "                        [-0.0344, -0.0129,  0.0123]],\n",
              "              \n",
              "                       [[-0.0304, -0.0371,  0.0051],\n",
              "                        [-0.0270,  0.0018, -0.0312],\n",
              "                        [-0.0410,  0.0412,  0.0307]],\n",
              "              \n",
              "                       [[-0.0403,  0.0395, -0.0125],\n",
              "                        [ 0.0201,  0.0304,  0.0049],\n",
              "                        [-0.0239,  0.0305,  0.0059]],\n",
              "              \n",
              "                       ...,\n",
              "              \n",
              "                       [[-0.0081,  0.0223,  0.0058],\n",
              "                        [ 0.0091,  0.0324, -0.0219],\n",
              "                        [-0.0133,  0.0012,  0.0220]],\n",
              "              \n",
              "                       [[ 0.0146, -0.0234,  0.0348],\n",
              "                        [-0.0087,  0.0341, -0.0179],\n",
              "                        [ 0.0240, -0.0092,  0.0054]],\n",
              "              \n",
              "                       [[ 0.0346,  0.0077,  0.0048],\n",
              "                        [-0.0126,  0.0172, -0.0086],\n",
              "                        [-0.0013,  0.0044,  0.0284]]],\n",
              "              \n",
              "              \n",
              "                      [[[ 0.0063, -0.0257, -0.0060],\n",
              "                        [ 0.0134, -0.0372, -0.0201],\n",
              "                        [-0.0104, -0.0131, -0.0116]],\n",
              "              \n",
              "                       [[-0.0047,  0.0115, -0.0226],\n",
              "                        [-0.0250,  0.0341,  0.0099],\n",
              "                        [-0.0195,  0.0013, -0.0339]],\n",
              "              \n",
              "                       [[ 0.0061, -0.0364, -0.0353],\n",
              "                        [ 0.0371, -0.0297, -0.0313],\n",
              "                        [ 0.0116, -0.0071,  0.0149]],\n",
              "              \n",
              "                       ...,\n",
              "              \n",
              "                       [[ 0.0304, -0.0035, -0.0413],\n",
              "                        [-0.0018, -0.0033,  0.0222],\n",
              "                        [ 0.0329,  0.0387, -0.0098]],\n",
              "              \n",
              "                       [[-0.0177, -0.0099, -0.0134],\n",
              "                        [-0.0315,  0.0131,  0.0350],\n",
              "                        [-0.0238,  0.0025,  0.0234]],\n",
              "              \n",
              "                       [[ 0.0382,  0.0227, -0.0142],\n",
              "                        [-0.0057, -0.0158, -0.0148],\n",
              "                        [-0.0273,  0.0052,  0.0237]]],\n",
              "              \n",
              "              \n",
              "                      ...,\n",
              "              \n",
              "              \n",
              "                      [[[ 0.0103, -0.0345,  0.0327],\n",
              "                        [-0.0241,  0.0118, -0.0025],\n",
              "                        [-0.0097,  0.0283,  0.0096]],\n",
              "              \n",
              "                       [[ 0.0403,  0.0169, -0.0163],\n",
              "                        [ 0.0408,  0.0205, -0.0108],\n",
              "                        [-0.0263, -0.0319,  0.0335]],\n",
              "              \n",
              "                       [[-0.0244,  0.0032,  0.0039],\n",
              "                        [ 0.0081,  0.0192, -0.0397],\n",
              "                        [-0.0243, -0.0049, -0.0091]],\n",
              "              \n",
              "                       ...,\n",
              "              \n",
              "                       [[ 0.0165, -0.0184, -0.0057],\n",
              "                        [ 0.0198, -0.0109, -0.0036],\n",
              "                        [ 0.0342,  0.0118, -0.0334]],\n",
              "              \n",
              "                       [[-0.0312,  0.0196, -0.0328],\n",
              "                        [ 0.0219,  0.0092, -0.0087],\n",
              "                        [ 0.0071, -0.0337,  0.0308]],\n",
              "              \n",
              "                       [[-0.0176,  0.0267,  0.0293],\n",
              "                        [-0.0123, -0.0370, -0.0159],\n",
              "                        [ 0.0166, -0.0285,  0.0377]]],\n",
              "              \n",
              "              \n",
              "                      [[[-0.0282, -0.0066, -0.0329],\n",
              "                        [ 0.0017, -0.0217, -0.0029],\n",
              "                        [ 0.0286,  0.0405,  0.0048]],\n",
              "              \n",
              "                       [[ 0.0096,  0.0007,  0.0400],\n",
              "                        [ 0.0138, -0.0173,  0.0218],\n",
              "                        [-0.0084,  0.0378, -0.0226]],\n",
              "              \n",
              "                       [[-0.0187,  0.0200, -0.0274],\n",
              "                        [-0.0381,  0.0069, -0.0079],\n",
              "                        [ 0.0405,  0.0016, -0.0005]],\n",
              "              \n",
              "                       ...,\n",
              "              \n",
              "                       [[-0.0135, -0.0134,  0.0125],\n",
              "                        [ 0.0304,  0.0061,  0.0381],\n",
              "                        [-0.0146,  0.0262, -0.0056]],\n",
              "              \n",
              "                       [[-0.0217,  0.0230, -0.0065],\n",
              "                        [-0.0019,  0.0374,  0.0007],\n",
              "                        [ 0.0043,  0.0253, -0.0385]],\n",
              "              \n",
              "                       [[-0.0362, -0.0287, -0.0197],\n",
              "                        [ 0.0284, -0.0239,  0.0040],\n",
              "                        [-0.0093,  0.0121,  0.0079]]],\n",
              "              \n",
              "              \n",
              "                      [[[-0.0334,  0.0275, -0.0250],\n",
              "                        [-0.0229,  0.0090, -0.0215],\n",
              "                        [ 0.0040,  0.0233,  0.0207]],\n",
              "              \n",
              "                       [[-0.0314,  0.0164, -0.0290],\n",
              "                        [ 0.0215,  0.0266,  0.0213],\n",
              "                        [-0.0030,  0.0083,  0.0154]],\n",
              "              \n",
              "                       [[-0.0220, -0.0184,  0.0054],\n",
              "                        [ 0.0094,  0.0350,  0.0043],\n",
              "                        [-0.0291,  0.0148,  0.0135]],\n",
              "              \n",
              "                       ...,\n",
              "              \n",
              "                       [[ 0.0097, -0.0249,  0.0002],\n",
              "                        [-0.0203, -0.0344,  0.0400],\n",
              "                        [ 0.0326, -0.0111,  0.0025]],\n",
              "              \n",
              "                       [[-0.0163,  0.0088,  0.0360],\n",
              "                        [-0.0354,  0.0303,  0.0416],\n",
              "                        [ 0.0150,  0.0349, -0.0378]],\n",
              "              \n",
              "                       [[ 0.0076, -0.0309,  0.0407],\n",
              "                        [ 0.0180, -0.0406, -0.0390],\n",
              "                        [-0.0294,  0.0218,  0.0011]]]], device='cuda:0')),\n",
              "             ('conv_block2.3.bias',\n",
              "              tensor([ 0.0328, -0.0114,  0.0355, -0.0027,  0.0382,  0.0038, -0.0208, -0.0164,\n",
              "                       0.0328,  0.0005, -0.0306,  0.0248,  0.0133, -0.0225,  0.0114, -0.0253,\n",
              "                       0.0018,  0.0210,  0.0249,  0.0031,  0.0293, -0.0267, -0.0253,  0.0276,\n",
              "                       0.0143, -0.0393,  0.0066,  0.0021,  0.0109,  0.0201, -0.0168, -0.0397,\n",
              "                       0.0303,  0.0293, -0.0321, -0.0225,  0.0329, -0.0019, -0.0177,  0.0318,\n",
              "                      -0.0244,  0.0338, -0.0108, -0.0190,  0.0314, -0.0280, -0.0028, -0.0079,\n",
              "                       0.0109, -0.0228, -0.0318,  0.0314, -0.0373, -0.0333, -0.0281, -0.0379,\n",
              "                      -0.0038,  0.0085, -0.0037, -0.0351, -0.0129, -0.0396,  0.0115,  0.0339],\n",
              "                     device='cuda:0')),\n",
              "             ('conv_block2.4.weight',\n",
              "              tensor([1., 1., 1., 1., 1., 1., 1., 1., 1., 1., 1., 1., 1., 1., 1., 1., 1., 1.,\n",
              "                      1., 1., 1., 1., 1., 1., 1., 1., 1., 1., 1., 1., 1., 1., 1., 1., 1., 1.,\n",
              "                      1., 1., 1., 1., 1., 1., 1., 1., 1., 1., 1., 1., 1., 1., 1., 1., 1., 1.,\n",
              "                      1., 1., 1., 1., 1., 1., 1., 1., 1., 1.], device='cuda:0')),\n",
              "             ('conv_block2.4.bias',\n",
              "              tensor([0., 0., 0., 0., 0., 0., 0., 0., 0., 0., 0., 0., 0., 0., 0., 0., 0., 0., 0., 0., 0., 0., 0., 0.,\n",
              "                      0., 0., 0., 0., 0., 0., 0., 0., 0., 0., 0., 0., 0., 0., 0., 0., 0., 0., 0., 0., 0., 0., 0., 0.,\n",
              "                      0., 0., 0., 0., 0., 0., 0., 0., 0., 0., 0., 0., 0., 0., 0., 0.],\n",
              "                     device='cuda:0')),\n",
              "             ('conv_block2.4.running_mean',\n",
              "              tensor([-0.4204, -0.2545,  0.0244, -0.1285,  0.1650,  0.0484,  0.1148, -0.2021,\n",
              "                      -0.0041,  0.1771, -0.1174,  0.0534,  0.2051,  0.0559, -0.1023,  0.1461,\n",
              "                       0.2067,  0.0928,  0.1025,  0.0492,  0.1748,  0.2481,  0.1630,  0.1631,\n",
              "                      -0.2642,  0.1694, -0.1949,  0.0138,  0.0044,  0.3530, -0.3613,  0.0559,\n",
              "                       0.2528, -0.3965, -0.1205,  0.1863,  0.0271,  0.1810, -0.0617,  0.0493,\n",
              "                       0.0039,  0.3841, -0.3358, -0.0491,  0.3053,  0.0758, -0.1390, -0.0632,\n",
              "                      -0.0194, -0.2281,  0.2399, -0.0275,  0.1108, -0.1912,  0.2242, -0.1789,\n",
              "                       0.0575,  0.2679, -0.0691, -0.3497,  0.1897, -0.1082,  0.4068, -0.0280],\n",
              "                     device='cuda:0')),\n",
              "             ('conv_block2.4.running_var',\n",
              "              tensor([0.1155, 0.0922, 0.1220, 0.1045, 0.0896, 0.1177, 0.1624, 0.1034, 0.0912,\n",
              "                      0.1022, 0.0896, 0.0893, 0.1070, 0.1363, 0.0849, 0.1410, 0.1385, 0.0772,\n",
              "                      0.0785, 0.1555, 0.1013, 0.1010, 0.2344, 0.1307, 0.1681, 0.1600, 0.1741,\n",
              "                      0.1090, 0.0886, 0.1259, 0.1271, 0.1118, 0.1257, 0.1608, 0.1195, 0.1736,\n",
              "                      0.1058, 0.1479, 0.1756, 0.0942, 0.1247, 0.2506, 0.0935, 0.1101, 0.2811,\n",
              "                      0.1104, 0.1214, 0.0953, 0.1056, 0.0890, 0.1311, 0.1566, 0.1090, 0.1394,\n",
              "                      0.1374, 0.1074, 0.0829, 0.1485, 0.0975, 0.0849, 0.0867, 0.0883, 0.1760,\n",
              "                      0.1151], device='cuda:0')),\n",
              "             ('conv_block2.4.num_batches_tracked',\n",
              "              tensor(1875, device='cuda:0')),\n",
              "             ('conv_block3.0.weight',\n",
              "              tensor([[[[-1.8139e-02,  1.1419e-02, -3.4708e-02],\n",
              "                        [ 2.3491e-02, -3.4965e-03,  1.7423e-02],\n",
              "                        [-1.2978e-02,  3.9910e-02, -3.6474e-02]],\n",
              "              \n",
              "                       [[-3.5826e-02, -8.6206e-03, -7.0093e-03],\n",
              "                        [ 4.1308e-02, -1.7376e-02, -1.6678e-02],\n",
              "                        [ 1.5190e-02,  1.5545e-02, -1.1953e-02]],\n",
              "              \n",
              "                       [[ 1.6627e-02, -2.2310e-02,  1.6551e-02],\n",
              "                        [-2.4203e-02, -1.7581e-04, -4.0636e-02],\n",
              "                        [-2.0552e-02,  2.9975e-02, -1.2587e-05]],\n",
              "              \n",
              "                       ...,\n",
              "              \n",
              "                       [[ 2.1278e-03,  1.6696e-02, -3.4420e-02],\n",
              "                        [-2.8331e-02,  3.8460e-02,  3.7464e-03],\n",
              "                        [ 8.0674e-03,  5.7392e-03,  1.1819e-02]],\n",
              "              \n",
              "                       [[-4.1439e-03, -2.3702e-02, -8.9476e-03],\n",
              "                        [ 4.4867e-03,  7.4471e-03,  1.7121e-02],\n",
              "                        [ 8.0366e-03, -1.3676e-02,  2.4545e-02]],\n",
              "              \n",
              "                       [[-6.7822e-03,  2.6465e-02, -2.8622e-02],\n",
              "                        [-2.6745e-02, -3.5719e-02,  3.2574e-04],\n",
              "                        [-3.6637e-02,  3.3293e-02,  1.9557e-02]]],\n",
              "              \n",
              "              \n",
              "                      [[[-1.2888e-02,  2.1517e-02,  3.4318e-02],\n",
              "                        [-3.8317e-02,  1.9009e-02, -3.6907e-02],\n",
              "                        [ 2.7364e-02,  2.6233e-02,  2.7041e-02]],\n",
              "              \n",
              "                       [[-7.6087e-03,  4.8164e-03, -3.2358e-02],\n",
              "                        [ 2.2469e-02, -3.8773e-02, -1.7847e-02],\n",
              "                        [-1.1262e-02,  1.3494e-02,  5.3366e-03]],\n",
              "              \n",
              "                       [[-1.3287e-02, -1.2612e-02,  1.3617e-02],\n",
              "                        [ 2.1007e-02,  1.3146e-02, -3.4291e-02],\n",
              "                        [-2.4983e-02,  3.9728e-02, -2.4698e-02]],\n",
              "              \n",
              "                       ...,\n",
              "              \n",
              "                       [[-1.0858e-02,  2.8422e-02, -4.0183e-02],\n",
              "                        [ 4.0441e-02, -2.1258e-02,  2.9935e-02],\n",
              "                        [-3.3567e-02,  2.0922e-02, -5.6564e-03]],\n",
              "              \n",
              "                       [[-3.7426e-03,  3.3296e-02, -1.9981e-02],\n",
              "                        [ 3.7882e-03,  2.5669e-02,  2.8662e-02],\n",
              "                        [ 8.9385e-03,  8.4818e-03,  1.0626e-03]],\n",
              "              \n",
              "                       [[-1.4227e-02, -3.4739e-02,  3.4804e-02],\n",
              "                        [-8.9974e-03,  1.2117e-02,  5.1038e-03],\n",
              "                        [-1.1383e-02, -2.8353e-02, -3.9171e-02]]],\n",
              "              \n",
              "              \n",
              "                      [[[-2.6035e-02, -1.5102e-02,  4.0461e-02],\n",
              "                        [ 9.3242e-03,  1.2437e-02, -9.9961e-03],\n",
              "                        [-2.7559e-02,  3.1871e-03,  4.1005e-02]],\n",
              "              \n",
              "                       [[-9.0202e-04,  1.0801e-02,  3.4505e-02],\n",
              "                        [ 7.0008e-03, -4.6761e-03,  2.1824e-02],\n",
              "                        [ 2.8947e-02,  3.2057e-02,  3.5883e-02]],\n",
              "              \n",
              "                       [[ 3.6849e-02, -2.8804e-02, -1.8900e-02],\n",
              "                        [-3.8982e-02, -2.7288e-02,  2.3235e-02],\n",
              "                        [-1.9547e-02,  3.1403e-02, -2.0794e-02]],\n",
              "              \n",
              "                       ...,\n",
              "              \n",
              "                       [[-2.7771e-02,  2.4700e-02,  2.6489e-03],\n",
              "                        [-3.4433e-02,  7.0373e-03, -2.9856e-03],\n",
              "                        [ 1.1932e-02,  9.6778e-03,  1.1409e-04]],\n",
              "              \n",
              "                       [[-3.4655e-02, -7.0831e-03,  3.1916e-03],\n",
              "                        [ 3.1405e-02,  3.9940e-02,  3.5826e-02],\n",
              "                        [-3.8989e-02, -1.5808e-02, -1.5789e-03]],\n",
              "              \n",
              "                       [[-2.4674e-02, -1.9180e-02, -1.1556e-03],\n",
              "                        [-7.0002e-03,  3.1155e-02, -3.6088e-02],\n",
              "                        [ 4.1456e-03, -2.5887e-02, -1.8292e-02]]],\n",
              "              \n",
              "              \n",
              "                      ...,\n",
              "              \n",
              "              \n",
              "                      [[[ 3.6332e-02, -3.0800e-02, -2.9387e-02],\n",
              "                        [ 1.3751e-02,  8.2095e-03, -3.2957e-02],\n",
              "                        [ 3.8546e-02,  1.2561e-02,  3.4700e-02]],\n",
              "              \n",
              "                       [[-3.9860e-03,  5.4131e-03,  3.7233e-02],\n",
              "                        [-8.4910e-03, -8.9009e-03,  3.3773e-02],\n",
              "                        [ 7.0687e-03,  2.0872e-02,  5.5371e-03]],\n",
              "              \n",
              "                       [[-2.0219e-02, -2.1370e-02, -4.1142e-02],\n",
              "                        [ 3.1411e-03, -1.4873e-02,  2.4314e-02],\n",
              "                        [ 1.9054e-02,  3.4074e-02, -2.2090e-02]],\n",
              "              \n",
              "                       ...,\n",
              "              \n",
              "                       [[ 8.8825e-03, -1.0756e-02,  1.8924e-02],\n",
              "                        [-7.6498e-03, -8.7154e-03,  2.7370e-02],\n",
              "                        [-7.3583e-03, -1.4655e-02,  1.3117e-03]],\n",
              "              \n",
              "                       [[-3.3838e-02, -2.3960e-02, -3.7703e-02],\n",
              "                        [ 3.9588e-02,  4.1401e-02, -1.9385e-04],\n",
              "                        [ 1.9159e-02, -3.4701e-02,  3.2817e-02]],\n",
              "              \n",
              "                       [[-1.3999e-02,  3.9062e-02,  3.2412e-02],\n",
              "                        [ 3.5072e-02, -4.0823e-03,  2.7589e-02],\n",
              "                        [ 3.1385e-02,  1.3291e-02, -3.8093e-02]]],\n",
              "              \n",
              "              \n",
              "                      [[[ 2.2794e-02,  3.7837e-02,  3.7543e-02],\n",
              "                        [ 3.8791e-02, -3.0306e-02, -5.0146e-04],\n",
              "                        [ 2.1054e-02, -6.3131e-03, -4.0117e-02]],\n",
              "              \n",
              "                       [[-3.1025e-02,  3.0514e-02,  3.3462e-02],\n",
              "                        [-9.8681e-03, -1.9446e-02,  3.6243e-02],\n",
              "                        [ 2.6499e-03, -2.3384e-02,  1.7228e-03]],\n",
              "              \n",
              "                       [[ 1.1332e-02, -2.4107e-02,  3.3718e-02],\n",
              "                        [ 1.6075e-02,  1.7163e-02, -1.3601e-02],\n",
              "                        [-1.1815e-02, -1.2413e-02, -3.5607e-02]],\n",
              "              \n",
              "                       ...,\n",
              "              \n",
              "                       [[ 4.1380e-02,  1.2465e-02,  1.7898e-02],\n",
              "                        [ 2.5939e-02,  2.4324e-02, -2.2935e-02],\n",
              "                        [ 3.0396e-02, -3.5120e-02, -6.6787e-03]],\n",
              "              \n",
              "                       [[ 3.6363e-02, -1.4557e-02,  1.9846e-02],\n",
              "                        [ 8.6210e-03, -1.8192e-02,  2.1386e-02],\n",
              "                        [ 2.5085e-02, -3.6189e-02,  3.7437e-03]],\n",
              "              \n",
              "                       [[ 2.7781e-02, -2.4566e-02, -2.1777e-02],\n",
              "                        [ 2.0878e-02, -2.2026e-02, -3.0361e-02],\n",
              "                        [-1.9438e-03,  3.9951e-02,  1.7272e-02]]],\n",
              "              \n",
              "              \n",
              "                      [[[-4.0286e-02, -4.0740e-02, -3.7576e-03],\n",
              "                        [-2.4200e-02, -5.9493e-03, -1.7418e-02],\n",
              "                        [ 3.3680e-02,  2.6655e-02, -4.8884e-03]],\n",
              "              \n",
              "                       [[ 1.3497e-02, -3.9899e-02, -1.0882e-02],\n",
              "                        [ 3.3741e-02, -3.5049e-03, -2.6998e-02],\n",
              "                        [ 2.4204e-02,  3.8317e-02,  5.2257e-03]],\n",
              "              \n",
              "                       [[-1.2184e-02,  1.7180e-02, -3.5632e-02],\n",
              "                        [ 3.2895e-03,  2.2270e-02,  1.0539e-02],\n",
              "                        [ 3.4174e-02, -2.9966e-02, -1.1904e-02]],\n",
              "              \n",
              "                       ...,\n",
              "              \n",
              "                       [[-8.8979e-03, -3.7437e-02,  2.7787e-02],\n",
              "                        [-5.7484e-05, -3.9388e-02,  2.8415e-02],\n",
              "                        [-3.4600e-02,  1.5968e-02, -1.3081e-02]],\n",
              "              \n",
              "                       [[ 4.0539e-02, -3.6359e-03, -1.2146e-02],\n",
              "                        [ 8.7801e-03, -4.1515e-02,  2.9796e-02],\n",
              "                        [-1.4523e-02,  3.8710e-02, -3.5487e-02]],\n",
              "              \n",
              "                       [[-2.0170e-02,  9.9244e-03,  1.0309e-02],\n",
              "                        [ 2.2728e-02, -3.7921e-02,  2.0980e-03],\n",
              "                        [-1.3419e-03,  5.1706e-03, -3.6669e-02]]]], device='cuda:0')),\n",
              "             ('conv_block3.0.bias',\n",
              "              tensor([-0.0065, -0.0251,  0.0205,  0.0120,  0.0268, -0.0402,  0.0334, -0.0308,\n",
              "                       0.0052,  0.0368,  0.0284,  0.0152, -0.0274, -0.0347, -0.0396, -0.0268,\n",
              "                      -0.0239,  0.0033, -0.0094, -0.0218,  0.0342, -0.0270, -0.0173,  0.0088,\n",
              "                       0.0235,  0.0071, -0.0141,  0.0012,  0.0401,  0.0235,  0.0255,  0.0365,\n",
              "                       0.0228, -0.0124, -0.0068, -0.0340,  0.0150, -0.0043,  0.0320,  0.0333,\n",
              "                      -0.0007, -0.0127, -0.0364, -0.0292, -0.0136,  0.0241, -0.0196, -0.0272,\n",
              "                       0.0363,  0.0133,  0.0260,  0.0278, -0.0369,  0.0247, -0.0278, -0.0184,\n",
              "                       0.0390, -0.0311,  0.0065,  0.0028, -0.0038,  0.0319, -0.0199,  0.0335,\n",
              "                       0.0128, -0.0231, -0.0239,  0.0224,  0.0264,  0.0157,  0.0405, -0.0186,\n",
              "                       0.0132, -0.0305,  0.0101, -0.0054, -0.0130,  0.0277,  0.0325, -0.0044,\n",
              "                       0.0009, -0.0057, -0.0116, -0.0101, -0.0113, -0.0303, -0.0339,  0.0075,\n",
              "                      -0.0223, -0.0053, -0.0238,  0.0348,  0.0354,  0.0322, -0.0059,  0.0017,\n",
              "                      -0.0223,  0.0226,  0.0286,  0.0157,  0.0243,  0.0413,  0.0191, -0.0086,\n",
              "                      -0.0401, -0.0017,  0.0219,  0.0191,  0.0102,  0.0243, -0.0393,  0.0046,\n",
              "                      -0.0278, -0.0256, -0.0406,  0.0275,  0.0314,  0.0340,  0.0090, -0.0280,\n",
              "                      -0.0403, -0.0069,  0.0355, -0.0370,  0.0298, -0.0306,  0.0376, -0.0244],\n",
              "                     device='cuda:0')),\n",
              "             ('conv_block3.1.weight',\n",
              "              tensor([1., 1., 1., 1., 1., 1., 1., 1., 1., 1., 1., 1., 1., 1., 1., 1., 1., 1.,\n",
              "                      1., 1., 1., 1., 1., 1., 1., 1., 1., 1., 1., 1., 1., 1., 1., 1., 1., 1.,\n",
              "                      1., 1., 1., 1., 1., 1., 1., 1., 1., 1., 1., 1., 1., 1., 1., 1., 1., 1.,\n",
              "                      1., 1., 1., 1., 1., 1., 1., 1., 1., 1., 1., 1., 1., 1., 1., 1., 1., 1.,\n",
              "                      1., 1., 1., 1., 1., 1., 1., 1., 1., 1., 1., 1., 1., 1., 1., 1., 1., 1.,\n",
              "                      1., 1., 1., 1., 1., 1., 1., 1., 1., 1., 1., 1., 1., 1., 1., 1., 1., 1.,\n",
              "                      1., 1., 1., 1., 1., 1., 1., 1., 1., 1., 1., 1., 1., 1., 1., 1., 1., 1.,\n",
              "                      1., 1.], device='cuda:0')),\n",
              "             ('conv_block3.1.bias',\n",
              "              tensor([0., 0., 0., 0., 0., 0., 0., 0., 0., 0., 0., 0., 0., 0., 0., 0., 0., 0., 0., 0., 0., 0., 0., 0.,\n",
              "                      0., 0., 0., 0., 0., 0., 0., 0., 0., 0., 0., 0., 0., 0., 0., 0., 0., 0., 0., 0., 0., 0., 0., 0.,\n",
              "                      0., 0., 0., 0., 0., 0., 0., 0., 0., 0., 0., 0., 0., 0., 0., 0., 0., 0., 0., 0., 0., 0., 0., 0.,\n",
              "                      0., 0., 0., 0., 0., 0., 0., 0., 0., 0., 0., 0., 0., 0., 0., 0., 0., 0., 0., 0., 0., 0., 0., 0.,\n",
              "                      0., 0., 0., 0., 0., 0., 0., 0., 0., 0., 0., 0., 0., 0., 0., 0., 0., 0., 0., 0., 0., 0., 0., 0.,\n",
              "                      0., 0., 0., 0., 0., 0., 0., 0.], device='cuda:0')),\n",
              "             ('conv_block3.1.running_mean',\n",
              "              tensor([ 0.1315,  0.3174,  0.1030,  0.3923, -0.1522,  0.0804,  0.9084,  0.2174,\n",
              "                       0.0274, -0.2755, -0.1397, -0.3535, -0.2565, -0.2335,  0.3664,  0.1716,\n",
              "                      -0.8177, -0.0958,  0.1966,  0.6709,  0.2633, -0.4654,  0.8850, -0.2341,\n",
              "                       0.4892, -0.2588,  0.0435, -0.4743, -0.0605, -0.2536,  0.6218,  0.5360,\n",
              "                       0.2458,  0.4656, -0.7000, -0.0083,  0.7016,  0.0513,  0.7876, -0.4153,\n",
              "                      -0.1481, -0.3773, -0.1913, -0.4195, -0.3283,  0.7759, -0.2299,  0.4787,\n",
              "                      -0.2562, -0.3495,  0.4673,  0.2565, -0.3426,  0.1360,  0.6510,  0.2069,\n",
              "                      -0.4774, -0.5137, -0.4242,  0.2381, -0.0548,  0.3634, -0.2288,  0.1679,\n",
              "                       0.2242,  0.2180, -0.2061, -0.2158,  0.6578,  0.7172,  0.5061,  0.0545,\n",
              "                       0.5153, -0.1408, -0.7093,  0.2761, -0.3928, -0.1642, -0.3582,  0.1198,\n",
              "                      -0.2743, -0.1649, -0.2309,  0.0754, -0.1022,  0.0373,  0.2438, -0.2157,\n",
              "                       0.2857,  0.3280, -1.1677, -0.1582, -0.2337,  0.3094, -0.3225, -0.1810,\n",
              "                       0.4027, -0.1476, -0.1155, -0.0189,  0.4836,  0.2437, -0.1270, -0.8703,\n",
              "                       0.6708,  0.2115,  0.3666,  0.0470,  0.5570,  0.1819, -0.4060,  0.2753,\n",
              "                       0.4040, -0.1790, -0.3498, -0.2680, -0.0759,  0.0941,  0.3429, -0.2092,\n",
              "                      -0.0168, -0.5899,  0.2429, -0.2009, -0.6852, -0.6233, -0.0177, -0.3714],\n",
              "                     device='cuda:0')),\n",
              "             ('conv_block3.1.running_var',\n",
              "              tensor([0.3304, 0.3985, 0.3513, 0.3117, 0.3285, 0.3226, 0.9032, 0.4511, 0.2944,\n",
              "                      0.3718, 0.2901, 0.3056, 0.2880, 0.3445, 0.3223, 0.3293, 0.4667, 0.3051,\n",
              "                      0.4776, 0.3545, 0.3175, 0.5103, 0.5270, 0.4249, 0.3950, 0.4365, 0.2760,\n",
              "                      0.3025, 0.3090, 0.3674, 0.4385, 0.3505, 0.3829, 0.5033, 0.4991, 0.4519,\n",
              "                      0.4330, 0.3176, 0.3236, 0.4564, 0.3669, 0.3291, 0.3401, 0.3378, 0.4518,\n",
              "                      0.6194, 0.4461, 0.4181, 0.3375, 0.5165, 0.4185, 0.3427, 0.3442, 0.3012,\n",
              "                      0.5433, 0.4711, 0.4860, 0.5302, 0.5791, 0.3132, 0.3068, 0.4178, 0.3375,\n",
              "                      0.5272, 0.3139, 0.3092, 0.3809, 0.6337, 0.5119, 0.4113, 0.3637, 0.3540,\n",
              "                      0.3792, 0.3176, 0.5175, 0.4683, 0.3796, 0.3511, 0.4576, 0.3886, 0.3666,\n",
              "                      0.3144, 0.2835, 0.3368, 0.3344, 0.3434, 0.5389, 0.2779, 0.3760, 0.4989,\n",
              "                      0.5879, 0.2696, 0.3920, 0.3678, 0.4858, 0.3378, 0.3750, 0.3282, 0.3008,\n",
              "                      0.3924, 0.4712, 0.3629, 0.2848, 0.4601, 0.3441, 0.3845, 0.5150, 0.3130,\n",
              "                      0.3905, 0.4171, 0.3867, 0.4094, 0.3550, 0.3373, 0.2940, 0.4460, 0.3024,\n",
              "                      0.4403, 0.4342, 0.3576, 0.3052, 0.4157, 0.3015, 0.3061, 0.5432, 0.3655,\n",
              "                      0.3672, 0.3365], device='cuda:0')),\n",
              "             ('conv_block3.1.num_batches_tracked',\n",
              "              tensor(1875, device='cuda:0')),\n",
              "             ('fc.0.weight',\n",
              "              tensor([[ 7.3047e-03, -2.8149e-02, -3.7107e-03,  ..., -2.3925e-02,\n",
              "                       -6.3924e-03,  2.5159e-02],\n",
              "                      [ 2.4822e-02,  1.4175e-02, -2.3736e-02,  ..., -1.2044e-02,\n",
              "                       -2.7981e-02, -1.6218e-02],\n",
              "                      [ 2.7441e-02,  2.0087e-03,  2.2261e-02,  ..., -2.3281e-02,\n",
              "                       -2.3123e-02, -1.7201e-02],\n",
              "                      ...,\n",
              "                      [-2.9151e-02,  8.0185e-03,  1.1963e-02,  ..., -1.9359e-02,\n",
              "                       -2.6500e-02,  5.3843e-05],\n",
              "                      [-3.8310e-03,  1.9051e-02,  2.4367e-02,  ...,  2.5206e-02,\n",
              "                       -2.8478e-02,  1.2569e-02],\n",
              "                      [-8.4215e-03,  2.6072e-02, -1.1623e-02,  ..., -7.7762e-03,\n",
              "                       -1.1668e-02,  2.5346e-02]], device='cuda:0')),\n",
              "             ('fc.0.bias',\n",
              "              tensor([ 7.2010e-03,  1.9772e-02,  2.0892e-02, -2.0038e-02, -2.7181e-02,\n",
              "                       2.6395e-02, -2.5070e-03,  1.7907e-02, -1.9460e-02,  3.5407e-04,\n",
              "                      -5.2350e-03, -1.2095e-03, -7.8136e-03, -1.7095e-02,  1.6713e-02,\n",
              "                      -2.3372e-02,  2.1043e-02,  1.2832e-03, -2.4413e-02, -2.2402e-02,\n",
              "                       6.4126e-03, -1.2986e-02,  3.1018e-03,  1.1507e-02,  1.4852e-02,\n",
              "                      -9.5273e-03,  7.6039e-03,  6.5424e-03, -1.4856e-02,  1.3302e-02,\n",
              "                      -1.9620e-02,  1.1712e-02,  9.0253e-03, -2.6386e-02, -1.0808e-02,\n",
              "                       2.7787e-02, -1.8118e-02, -2.4056e-02,  6.7409e-03,  1.4415e-02,\n",
              "                       5.9026e-03, -1.5882e-02,  4.2235e-03,  1.1411e-02, -2.4056e-02,\n",
              "                      -2.6428e-03,  4.1073e-03,  1.4623e-02, -1.7607e-02,  6.8427e-03,\n",
              "                      -5.3424e-03,  2.2983e-02,  5.9839e-04, -1.7249e-02, -1.6204e-02,\n",
              "                      -5.8100e-03, -7.7563e-04, -5.4904e-03, -1.4944e-02, -1.4698e-03,\n",
              "                       1.4489e-03,  8.7214e-03,  4.3509e-03, -1.9442e-02,  1.9642e-02,\n",
              "                       2.6074e-02, -1.7918e-02,  1.3712e-02, -7.6473e-03, -2.8071e-02,\n",
              "                       1.5063e-02,  1.4847e-02,  8.5149e-03, -2.5426e-03,  1.6457e-03,\n",
              "                      -4.6935e-04, -1.8481e-02,  1.8507e-02,  1.0979e-02,  1.0359e-02,\n",
              "                      -2.6759e-02, -7.6012e-03,  5.1705e-03,  4.5532e-03, -2.7281e-02,\n",
              "                       3.5973e-04,  1.2471e-02,  2.7128e-02,  2.7215e-02,  2.7008e-03,\n",
              "                       2.8380e-02,  2.4812e-03, -4.3366e-03,  2.1689e-02,  2.1257e-02,\n",
              "                      -4.2892e-03,  7.4917e-03,  2.5251e-02, -2.5783e-02, -2.1809e-02,\n",
              "                      -2.2367e-02,  1.2224e-02,  6.1157e-03, -5.0578e-03,  7.5250e-03,\n",
              "                       8.8275e-03, -9.8985e-03,  2.2708e-02, -1.4027e-02, -2.6128e-02,\n",
              "                      -5.1142e-03, -2.3561e-02,  2.5618e-02, -1.8101e-02,  2.1404e-02,\n",
              "                       2.0995e-02,  1.0057e-02,  1.2298e-02, -6.8741e-03,  1.8397e-03,\n",
              "                      -2.6043e-02, -2.8676e-02,  2.3124e-02,  2.0898e-02,  1.8438e-03,\n",
              "                       8.8990e-03, -2.1078e-02, -2.1562e-02, -2.4629e-02,  2.2981e-02,\n",
              "                       2.6206e-02, -2.5413e-02, -1.0199e-02,  1.3673e-02,  1.2379e-02,\n",
              "                       1.3865e-03,  2.1758e-02, -2.6485e-02,  1.6406e-02, -2.3117e-02,\n",
              "                      -1.2627e-02,  1.5706e-03,  1.7545e-02,  2.8677e-02,  2.6854e-02,\n",
              "                      -1.2609e-02,  2.6897e-02, -2.0159e-02, -1.9584e-02,  1.8384e-02,\n",
              "                       2.8707e-02,  2.3267e-03,  1.4655e-02,  2.7724e-02, -2.3043e-02,\n",
              "                       1.6851e-02, -9.5322e-03,  2.3748e-02,  1.2467e-02,  1.3066e-02,\n",
              "                      -2.2551e-03, -2.5111e-02,  2.6982e-03, -5.5327e-03, -2.1050e-03,\n",
              "                      -1.9883e-02, -1.8467e-02,  1.6263e-02,  1.5555e-02, -2.0762e-03,\n",
              "                       2.2079e-02,  2.7081e-02, -1.3326e-02,  5.4685e-03,  2.8284e-02,\n",
              "                      -1.7503e-02,  1.1958e-02, -1.9867e-02,  5.5896e-03, -5.1221e-04,\n",
              "                       5.8614e-03,  2.5064e-02,  2.2073e-02,  1.3493e-02, -9.5260e-03,\n",
              "                      -2.6047e-02, -8.1200e-03,  7.4242e-03,  1.8742e-02, -2.0436e-02,\n",
              "                      -4.7486e-03, -1.1156e-02,  1.4824e-02, -2.0956e-02,  1.3187e-02,\n",
              "                       2.2902e-02, -2.7598e-02, -2.6600e-02,  9.0329e-03,  3.5608e-03,\n",
              "                      -1.0311e-02, -1.0758e-02,  2.5408e-02, -1.1426e-03, -2.5546e-02,\n",
              "                       1.0072e-02,  1.7572e-02, -1.8658e-03, -2.3472e-02, -2.0623e-02,\n",
              "                      -6.2620e-03, -2.3904e-02, -1.4048e-02,  1.6833e-02, -1.5502e-02,\n",
              "                       2.9047e-02, -1.0011e-02,  2.4973e-02,  9.6529e-04,  5.3895e-03,\n",
              "                      -6.6265e-04, -2.8481e-02,  1.6280e-02,  3.9629e-04,  1.7720e-02,\n",
              "                      -2.3120e-02,  2.0434e-02, -8.1220e-03,  3.4400e-03,  7.0751e-05,\n",
              "                      -1.4482e-03, -2.7352e-03, -2.4737e-02, -1.2006e-02, -2.2901e-02,\n",
              "                       5.0255e-03, -2.4996e-02,  1.6549e-02,  7.5036e-03, -1.6442e-02,\n",
              "                      -3.4959e-03, -1.7904e-02,  2.6357e-02,  8.4554e-05,  2.5940e-02,\n",
              "                      -2.5178e-02, -2.0502e-04, -2.9242e-02, -2.6870e-02,  1.1918e-02,\n",
              "                       2.5230e-02,  2.0924e-02, -1.6067e-02,  1.4451e-02,  2.0180e-02,\n",
              "                      -3.5390e-03], device='cuda:0')),\n",
              "             ('fc.3.weight',\n",
              "              tensor([[ 0.0230, -0.0242,  0.0331,  ..., -0.0349,  0.0437,  0.0464],\n",
              "                      [ 0.0254,  0.0183,  0.0153,  ..., -0.0614,  0.0162,  0.0571],\n",
              "                      [-0.0378, -0.0604, -0.0423,  ...,  0.0252,  0.0373, -0.0463],\n",
              "                      ...,\n",
              "                      [-0.0007, -0.0476,  0.0363,  ..., -0.0446, -0.0029, -0.0415],\n",
              "                      [-0.0247, -0.0574,  0.0197,  ..., -0.0180,  0.0362,  0.0534],\n",
              "                      [ 0.0428,  0.0327,  0.0038,  ...,  0.0406, -0.0481,  0.0144]],\n",
              "                     device='cuda:0')),\n",
              "             ('fc.3.bias',\n",
              "              tensor([-0.0471,  0.0161, -0.0424, -0.0323,  0.0372,  0.0042, -0.0564, -0.0585,\n",
              "                      -0.0046,  0.0122, -0.0131, -0.0227,  0.0430,  0.0281, -0.0289, -0.0357,\n",
              "                      -0.0291,  0.0534,  0.0221, -0.0128, -0.0095,  0.0247,  0.0037, -0.0593,\n",
              "                       0.0324,  0.0044, -0.0569,  0.0018, -0.0288,  0.0103, -0.0114,  0.0266,\n",
              "                      -0.0183,  0.0476, -0.0300, -0.0545, -0.0604, -0.0376, -0.0137,  0.0565,\n",
              "                       0.0621, -0.0612,  0.0069,  0.0504,  0.0221, -0.0163,  0.0067,  0.0457,\n",
              "                       0.0040,  0.0602,  0.0483, -0.0097, -0.0111, -0.0092,  0.0063,  0.0113,\n",
              "                      -0.0103,  0.0074, -0.0201, -0.0053, -0.0165,  0.0103, -0.0585, -0.0344,\n",
              "                      -0.0161, -0.0288, -0.0084,  0.0326, -0.0447, -0.0194, -0.0085,  0.0102,\n",
              "                       0.0476,  0.0471,  0.0373, -0.0204, -0.0551,  0.0013, -0.0475, -0.0108,\n",
              "                      -0.0304,  0.0580,  0.0007, -0.0516,  0.0587,  0.0599,  0.0019,  0.0019,\n",
              "                       0.0541, -0.0228, -0.0609,  0.0590,  0.0444, -0.0529, -0.0049,  0.0253,\n",
              "                      -0.0176,  0.0485, -0.0086, -0.0023,  0.0199, -0.0042, -0.0200, -0.0588,\n",
              "                      -0.0502,  0.0155, -0.0475, -0.0271,  0.0526, -0.0522, -0.0313,  0.0454,\n",
              "                      -0.0590,  0.0516, -0.0429, -0.0384, -0.0402, -0.0500, -0.0187, -0.0302,\n",
              "                      -0.0483,  0.0107, -0.0367,  0.0563,  0.0561,  0.0402,  0.0408, -0.0419],\n",
              "                     device='cuda:0')),\n",
              "             ('fc.6.weight',\n",
              "              tensor([[-0.0140, -0.0853, -0.0219,  ..., -0.0582, -0.0061,  0.0586],\n",
              "                      [ 0.0312,  0.0729, -0.0234,  ..., -0.0505,  0.0406, -0.0548],\n",
              "                      [ 0.0607,  0.0527,  0.0135,  ..., -0.0189, -0.0053,  0.0003],\n",
              "                      ...,\n",
              "                      [ 0.0832,  0.0631, -0.0844,  ..., -0.0842, -0.0516,  0.0410],\n",
              "                      [ 0.0143,  0.0597, -0.0183,  ...,  0.0087,  0.0448,  0.0582],\n",
              "                      [ 0.0016,  0.0302, -0.0285,  ...,  0.0533,  0.0396, -0.0207]],\n",
              "                     device='cuda:0')),\n",
              "             ('fc.6.bias',\n",
              "              tensor([-0.0404, -0.0645, -0.0540,  0.0785,  0.0521,  0.0359, -0.0800,  0.0468,\n",
              "                       0.0095,  0.0348], device='cuda:0'))])"
            ]
          },
          "metadata": {},
          "execution_count": 58
        }
      ]
    },
    {
      "cell_type": "code",
      "source": [
        "import requests\n",
        "from pathlib import Path\n",
        "#Download helper functions\n",
        "if Path('helper_functions.py').is_file():\n",
        "  print('File already exists, skipping download')\n",
        "else:\n",
        "  print('Downloading file')\n",
        "  request = requests.get(\"https://raw.githubusercontent.com/mrdbourke/pytorch-deep-learning/af6548e52663c8395fe2777bd0fbfd6ac85fd6f8/helper_functions.py\")\n",
        "  with open('helper_functions.py','wb') as f:\n",
        "    f.write(request.content)"
      ],
      "metadata": {
        "colab": {
          "base_uri": "https://localhost:8080/"
        },
        "id": "v4qS1KRkwKNH",
        "outputId": "79fe7aa6-8103-4413-c54b-e8b02c6d5c59"
      },
      "execution_count": 59,
      "outputs": [
        {
          "output_type": "stream",
          "name": "stdout",
          "text": [
            "File already exists, skipping download\n"
          ]
        }
      ]
    },
    {
      "cell_type": "code",
      "source": [
        "from helper_functions import accuracy_fn\n",
        "\n",
        "loss_fn =nn.CrossEntropyLoss()\n",
        "optimizer = torch.optim.SGD(params = model_0.parameters(),\n",
        "                            lr=0.1)\n"
      ],
      "metadata": {
        "id": "vbhcy8brxCx-"
      },
      "execution_count": 60,
      "outputs": []
    },
    {
      "cell_type": "code",
      "source": [
        "#Creating a function to time our experiments\n",
        "from timeit import default_timer as timer\n",
        "def print_train_time(start:float,\n",
        "                     end: float,\n",
        "                     device: torch.device = None):\n",
        "  total_time = end-start\n",
        "  print(f\"Train time on {device}: {total_time:.3f} seconds\")\n",
        "  return total_time"
      ],
      "metadata": {
        "id": "wJndVj-vxP6u"
      },
      "execution_count": 61,
      "outputs": []
    },
    {
      "cell_type": "code",
      "source": [
        "start_time =timer()\n",
        "end_time=timer()\n",
        "print_train_time(start=start_time, end=end_time, device= 'cpu')"
      ],
      "metadata": {
        "colab": {
          "base_uri": "https://localhost:8080/"
        },
        "id": "_MMmm4w6yYoz",
        "outputId": "fcea4f77-fd2d-41a1-e263-bcf9f0de3d48"
      },
      "execution_count": 62,
      "outputs": [
        {
          "output_type": "stream",
          "name": "stdout",
          "text": [
            "Train time on cpu: 0.000 seconds\n"
          ]
        },
        {
          "output_type": "execute_result",
          "data": {
            "text/plain": [
              "2.9448000077536562e-05"
            ]
          },
          "metadata": {},
          "execution_count": 62
        }
      ]
    },
    {
      "cell_type": "code",
      "source": [
        "for epoch in tqdm(range(epochs)):\n",
        "    print(f'Epoch: {epoch}\\n-----------')\n",
        "    train_loss = 0\n",
        "    for batch, (X, y) in enumerate(train_dataloader):\n",
        "        X, y = X.to(device), y.to(device)  # <-- move to device\n",
        "\n",
        "        model_0.train()\n",
        "        y_pred = model_0(X)\n",
        "        loss = loss_fn(y_pred, y)\n",
        "        train_loss += loss\n",
        "        optimizer.zero_grad()\n",
        "        loss.backward()\n",
        "        optimizer.step()\n",
        "\n",
        "        if batch % 400 == 0:\n",
        "            print(f'Looked at {batch * len(X)}/{len(train_dataloader.dataset)} samples')\n",
        "\n",
        "    train_loss /= len(train_dataloader)\n",
        "\n",
        "    # Evaluation\n",
        "    test_loss, test_acc = 0, 0\n",
        "    model_0.eval()\n",
        "    with torch.inference_mode():\n",
        "      for X, y in test_dataloader:\n",
        "          X, y = X.to(device), y.to(device)\n",
        "          test_pred = model_0(X)\n",
        "          test_loss += loss_fn(test_pred, y).item()\n",
        "          test_acc += accuracy_fn(y_true=y, y_pred=test_pred.argmax(dim=1))\n",
        "\n",
        "\n",
        "\n",
        "    test_loss /= len(test_dataloader)\n",
        "    test_acc /= len(test_dataloader)\n",
        "    print(f'Train loss: {train_loss:.5f} | Test loss: {test_loss:.5f} | Test acc: {test_acc:.2f}')\n"
      ],
      "metadata": {
        "colab": {
          "base_uri": "https://localhost:8080/",
          "height": 743,
          "referenced_widgets": [
            "4bab276b4e714acc8d5d243c18af189d",
            "025751e0da5e4ed8b6a5b034f381540b",
            "d9bc103f888d4c3f92775328c6b38472",
            "c5150cc14b504a50888234a04b8d9042",
            "4ed24c71cdc8486da7158ed09eab8737",
            "ac9b86a464a042d8a1e610679d989f79",
            "3860278a28b94405a013c6bb5e69d318",
            "23627c8c87254cbf9dc83575f248d5a7",
            "a0db86fa7759470eb8e923186c18e324",
            "a29d604d807942b89b5b368428f750e6",
            "167efdae82c442fa9457e0c140358e22"
          ]
        },
        "id": "aGaw-MhLyoD2",
        "outputId": "f65347e8-e8c6-47a4-a076-60251b393768"
      },
      "execution_count": 64,
      "outputs": [
        {
          "output_type": "display_data",
          "data": {
            "text/plain": [
              "  0%|          | 0/5 [00:00<?, ?it/s]"
            ],
            "application/vnd.jupyter.widget-view+json": {
              "version_major": 2,
              "version_minor": 0,
              "model_id": "4bab276b4e714acc8d5d243c18af189d"
            }
          },
          "metadata": {}
        },
        {
          "output_type": "stream",
          "name": "stdout",
          "text": [
            "Epoch: 0\n",
            "-----------\n",
            "Looked at 0/60000 samples\n",
            "Looked at 12800/60000 samples\n",
            "Looked at 25600/60000 samples\n",
            "Looked at 38400/60000 samples\n",
            "Looked at 51200/60000 samples\n",
            "Train loss: 0.11040 | Test loss: 0.03679 | Test acc: 98.97\n",
            "Epoch: 1\n",
            "-----------\n",
            "Looked at 0/60000 samples\n",
            "Looked at 12800/60000 samples\n",
            "Looked at 25600/60000 samples\n",
            "Looked at 38400/60000 samples\n",
            "Looked at 51200/60000 samples\n",
            "Train loss: 0.07953 | Test loss: 0.03626 | Test acc: 99.01\n",
            "Epoch: 2\n",
            "-----------\n",
            "Looked at 0/60000 samples\n",
            "Looked at 12800/60000 samples\n",
            "Looked at 25600/60000 samples\n",
            "Looked at 38400/60000 samples\n",
            "Looked at 51200/60000 samples\n",
            "Train loss: 0.06905 | Test loss: 0.02652 | Test acc: 99.29\n",
            "Epoch: 3\n",
            "-----------\n",
            "Looked at 0/60000 samples\n",
            "Looked at 12800/60000 samples\n",
            "Looked at 25600/60000 samples\n",
            "Looked at 38400/60000 samples\n",
            "Looked at 51200/60000 samples\n",
            "Train loss: 0.05631 | Test loss: 0.02292 | Test acc: 99.36\n",
            "Epoch: 4\n",
            "-----------\n",
            "Looked at 0/60000 samples\n",
            "Looked at 12800/60000 samples\n",
            "Looked at 25600/60000 samples\n",
            "Looked at 38400/60000 samples\n",
            "Looked at 51200/60000 samples\n",
            "Train loss: 0.04804 | Test loss: 0.01865 | Test acc: 99.52\n"
          ]
        }
      ]
    },
    {
      "cell_type": "markdown",
      "source": [
        "#4. Make predictions and get results"
      ],
      "metadata": {
        "id": "zEAl8AH43tA8"
      }
    },
    {
      "cell_type": "code",
      "source": [
        "from tqdm import tqdm\n",
        "def eval_model(model: torch.nn.Module,\n",
        "               data_loader: torch.utils.data.DataLoader,\n",
        "               loss_fn: torch.nn.Module,\n",
        "               accuracy_fn):\n",
        "    loss, acc = 0, 0\n",
        "    model.eval()\n",
        "    with torch.inference_mode():\n",
        "        for x, y in tqdm(data_loader):\n",
        "            x, y = x.to(device), y.to(device)  # <-- move to device\n",
        "            y_pred = model(x)\n",
        "            loss += loss_fn(y_pred, y).item()\n",
        "            acc += accuracy_fn(y_true=y, y_pred=y_pred.argmax(dim=1))\n",
        "\n",
        "        loss /= len(data_loader)\n",
        "        acc /= len(data_loader)\n",
        "\n",
        "    return {\n",
        "    'Model Name': model.__class__.__name__,\n",
        "    'Model Loss': loss,\n",
        "    'Model Accuracy': acc\n",
        "}\n",
        "\n",
        "\n",
        "\n",
        "model_0_results = eval_model(model=model_0,\n",
        "                             data_loader=test_dataloader,\n",
        "                             loss_fn=loss_fn,\n",
        "                             accuracy_fn=accuracy_fn)\n",
        "model_0_results"
      ],
      "metadata": {
        "colab": {
          "base_uri": "https://localhost:8080/"
        },
        "id": "9YWqPMbg2vAa",
        "outputId": "59d57c89-1fd3-4889-9b4b-3a657868cc49"
      },
      "execution_count": 72,
      "outputs": [
        {
          "output_type": "stream",
          "name": "stderr",
          "text": [
            "100%|██████████| 313/313 [00:01<00:00, 235.84it/s]\n"
          ]
        },
        {
          "output_type": "execute_result",
          "data": {
            "text/plain": [
              "{'Model Name': 'FashionMNISTModelV0',\n",
              " 'Model Loss': 0.018645409659481235,\n",
              " 'Model Accuracy': 99.52076677316293}"
            ]
          },
          "metadata": {},
          "execution_count": 72
        }
      ]
    },
    {
      "cell_type": "code",
      "source": [
        "!pip install Pillow\n",
        "from PIL import ImageOps"
      ],
      "metadata": {
        "colab": {
          "base_uri": "https://localhost:8080/"
        },
        "id": "IqbpFeXhX9aA",
        "outputId": "33a5cb9b-825a-426b-be25-e9c0f2d97e2d"
      },
      "execution_count": 77,
      "outputs": [
        {
          "output_type": "stream",
          "name": "stdout",
          "text": [
            "Requirement already satisfied: Pillow in /usr/local/lib/python3.11/dist-packages (11.1.0)\n"
          ]
        }
      ]
    },
    {
      "cell_type": "code",
      "source": [
        "import torch\n",
        "from PIL import Image, ImageOps\n",
        "from torchvision import transforms\n",
        "import matplotlib.pyplot as plt\n",
        "\n",
        "device = 'cuda' if torch.cuda.is_available() else 'cpu'\n",
        "model_0.to(device)\n",
        "\n",
        "transform = transforms.Compose([\n",
        "    transforms.Resize((28, 28)),\n",
        "    transforms.Grayscale(num_output_channels=1),\n",
        "    transforms.ToTensor(),\n",
        "    transforms.Normalize((0.1307,), (0.3081,))\n",
        "])\n",
        "\n",
        "def predict_image(image_path):\n",
        "    image = Image.open(image_path).convert('L')\n",
        "    image = ImageOps.invert(image)\n",
        "    image = transform(image).unsqueeze(0).to(device)\n",
        "    model_0.eval()\n",
        "    with torch.no_grad():\n",
        "        output = model_0(image)\n",
        "        _, predicted_class = torch.max(output, 1)\n",
        "    return predicted_class.item()\n",
        "\n",
        "image_path = '/content/1.jpg'\n",
        "predicted_class = predict_image(image_path)\n",
        "print(f'Predicted Class: {predicted_class}')\n",
        "print(f'Class Name: {class_names[predicted_class]}')\n",
        "\n",
        "def show_tensor_image(tensor_img):\n",
        "    img = tensor_img.squeeze().cpu().numpy()\n",
        "    plt.imshow(img, cmap='hot')\n",
        "    plt.axis('off')\n",
        "    plt.title(\"Preprocessed Image\")\n",
        "    plt.show()\n",
        "\n",
        "image_tensor = transform(ImageOps.invert(Image.open(image_path).convert('L')))\n",
        "show_tensor_image(image_tensor)\n"
      ],
      "metadata": {
        "colab": {
          "base_uri": "https://localhost:8080/",
          "height": 463
        },
        "id": "A8XS8Ganc_fB",
        "outputId": "92a442f4-8826-416f-add4-28cdba588a05"
      },
      "execution_count": 82,
      "outputs": [
        {
          "output_type": "stream",
          "name": "stdout",
          "text": [
            "Predicted Class: 1\n",
            "Class Name: 1 - one\n"
          ]
        },
        {
          "output_type": "display_data",
          "data": {
            "text/plain": [
              "<Figure size 640x480 with 1 Axes>"
            ],
            "image/png": "[encoded data removed]"
          },
          "metadata": {}
        }
      ]
    },
    {
      "cell_type": "code",
      "source": [],
      "metadata": {
        "id": "SN8gqRGrdBo8"
      },
      "execution_count": null,
      "outputs": []
    }
  ]
}